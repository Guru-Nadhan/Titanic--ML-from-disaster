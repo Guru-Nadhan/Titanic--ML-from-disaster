{
 "cells": [
  {
   "cell_type": "code",
   "execution_count": 1,
   "id": "90e12215",
   "metadata": {
    "_cell_guid": "b1076dfc-b9ad-4769-8c92-a6c4dae69d19",
    "_uuid": "8f2839f25d086af736a60e9eeb907d3b93b6e0e5",
    "execution": {
     "iopub.execute_input": "2021-07-24T07:07:07.410292Z",
     "iopub.status.busy": "2021-07-24T07:07:07.408504Z",
     "iopub.status.idle": "2021-07-24T07:07:08.415201Z",
     "shell.execute_reply": "2021-07-24T07:07:08.416167Z",
     "shell.execute_reply.started": "2021-07-24T07:03:50.542859Z"
    },
    "papermill": {
     "duration": 1.044613,
     "end_time": "2021-07-24T07:07:08.416519",
     "exception": false,
     "start_time": "2021-07-24T07:07:07.371906",
     "status": "completed"
    },
    "tags": []
   },
   "outputs": [
    {
     "name": "stdout",
     "output_type": "stream",
     "text": [
      "/kaggle/input/titanic/train.csv\n",
      "/kaggle/input/titanic/test.csv\n",
      "/kaggle/input/titanic/gender_submission.csv\n"
     ]
    }
   ],
   "source": [
    "# This Python 3 environment comes with many helpful analytics libraries installed\n",
    "# It is defined by the kaggle/python Docker image: https://github.com/kaggle/docker-python\n",
    "# For example, here's several helpful packages to load\n",
    "\n",
    "import numpy as np # linear algebra\n",
    "import pandas as pd # data processing, CSV file I/O (e.g. pd.read_csv)\n",
    "import seaborn as sns\n",
    "import matplotlib.pyplot as plt\n",
    "# Input data files are available in the read-only \"../input/\" directory\n",
    "# For example, running this (by clicking run or pressing Shift+Enter) will list all files under the input directory\n",
    "\n",
    "import os\n",
    "for dirname, _, filenames in os.walk('/kaggle/input'):\n",
    "    for filename in filenames:\n",
    "        print(os.path.join(dirname, filename))\n",
    "\n",
    "# You can write up to 20GB to the current directory (/kaggle/working/) that gets preserved as output when you create a version using \"Save & Run All\" \n",
    "# You can also write temporary files to /kaggle/temp/, but they won't be saved outside of the current session"
   ]
  },
  {
   "cell_type": "code",
   "execution_count": 2,
   "id": "ef5af58c",
   "metadata": {
    "execution": {
     "iopub.execute_input": "2021-07-24T07:07:08.485030Z",
     "iopub.status.busy": "2021-07-24T07:07:08.484388Z",
     "iopub.status.idle": "2021-07-24T07:07:08.538222Z",
     "shell.execute_reply": "2021-07-24T07:07:08.538778Z",
     "shell.execute_reply.started": "2021-07-24T07:03:50.559482Z"
    },
    "papermill": {
     "duration": 0.090383,
     "end_time": "2021-07-24T07:07:08.538954",
     "exception": false,
     "start_time": "2021-07-24T07:07:08.448571",
     "status": "completed"
    },
    "tags": []
   },
   "outputs": [
    {
     "data": {
      "text/html": [
       "<div>\n",
       "<style scoped>\n",
       "    .dataframe tbody tr th:only-of-type {\n",
       "        vertical-align: middle;\n",
       "    }\n",
       "\n",
       "    .dataframe tbody tr th {\n",
       "        vertical-align: top;\n",
       "    }\n",
       "\n",
       "    .dataframe thead th {\n",
       "        text-align: right;\n",
       "    }\n",
       "</style>\n",
       "<table border=\"1\" class=\"dataframe\">\n",
       "  <thead>\n",
       "    <tr style=\"text-align: right;\">\n",
       "      <th></th>\n",
       "      <th>PassengerId</th>\n",
       "      <th>Survived</th>\n",
       "      <th>Pclass</th>\n",
       "      <th>Name</th>\n",
       "      <th>Sex</th>\n",
       "      <th>Age</th>\n",
       "      <th>SibSp</th>\n",
       "      <th>Parch</th>\n",
       "      <th>Ticket</th>\n",
       "      <th>Fare</th>\n",
       "      <th>Cabin</th>\n",
       "      <th>Embarked</th>\n",
       "    </tr>\n",
       "  </thead>\n",
       "  <tbody>\n",
       "    <tr>\n",
       "      <th>0</th>\n",
       "      <td>1</td>\n",
       "      <td>0</td>\n",
       "      <td>3</td>\n",
       "      <td>Braund, Mr. Owen Harris</td>\n",
       "      <td>male</td>\n",
       "      <td>22.0</td>\n",
       "      <td>1</td>\n",
       "      <td>0</td>\n",
       "      <td>A/5 21171</td>\n",
       "      <td>7.2500</td>\n",
       "      <td>NaN</td>\n",
       "      <td>S</td>\n",
       "    </tr>\n",
       "    <tr>\n",
       "      <th>1</th>\n",
       "      <td>2</td>\n",
       "      <td>1</td>\n",
       "      <td>1</td>\n",
       "      <td>Cumings, Mrs. John Bradley (Florence Briggs Th...</td>\n",
       "      <td>female</td>\n",
       "      <td>38.0</td>\n",
       "      <td>1</td>\n",
       "      <td>0</td>\n",
       "      <td>PC 17599</td>\n",
       "      <td>71.2833</td>\n",
       "      <td>C85</td>\n",
       "      <td>C</td>\n",
       "    </tr>\n",
       "    <tr>\n",
       "      <th>2</th>\n",
       "      <td>3</td>\n",
       "      <td>1</td>\n",
       "      <td>3</td>\n",
       "      <td>Heikkinen, Miss. Laina</td>\n",
       "      <td>female</td>\n",
       "      <td>26.0</td>\n",
       "      <td>0</td>\n",
       "      <td>0</td>\n",
       "      <td>STON/O2. 3101282</td>\n",
       "      <td>7.9250</td>\n",
       "      <td>NaN</td>\n",
       "      <td>S</td>\n",
       "    </tr>\n",
       "    <tr>\n",
       "      <th>3</th>\n",
       "      <td>4</td>\n",
       "      <td>1</td>\n",
       "      <td>1</td>\n",
       "      <td>Futrelle, Mrs. Jacques Heath (Lily May Peel)</td>\n",
       "      <td>female</td>\n",
       "      <td>35.0</td>\n",
       "      <td>1</td>\n",
       "      <td>0</td>\n",
       "      <td>113803</td>\n",
       "      <td>53.1000</td>\n",
       "      <td>C123</td>\n",
       "      <td>S</td>\n",
       "    </tr>\n",
       "    <tr>\n",
       "      <th>4</th>\n",
       "      <td>5</td>\n",
       "      <td>0</td>\n",
       "      <td>3</td>\n",
       "      <td>Allen, Mr. William Henry</td>\n",
       "      <td>male</td>\n",
       "      <td>35.0</td>\n",
       "      <td>0</td>\n",
       "      <td>0</td>\n",
       "      <td>373450</td>\n",
       "      <td>8.0500</td>\n",
       "      <td>NaN</td>\n",
       "      <td>S</td>\n",
       "    </tr>\n",
       "    <tr>\n",
       "      <th>5</th>\n",
       "      <td>6</td>\n",
       "      <td>0</td>\n",
       "      <td>3</td>\n",
       "      <td>Moran, Mr. James</td>\n",
       "      <td>male</td>\n",
       "      <td>NaN</td>\n",
       "      <td>0</td>\n",
       "      <td>0</td>\n",
       "      <td>330877</td>\n",
       "      <td>8.4583</td>\n",
       "      <td>NaN</td>\n",
       "      <td>Q</td>\n",
       "    </tr>\n",
       "    <tr>\n",
       "      <th>6</th>\n",
       "      <td>7</td>\n",
       "      <td>0</td>\n",
       "      <td>1</td>\n",
       "      <td>McCarthy, Mr. Timothy J</td>\n",
       "      <td>male</td>\n",
       "      <td>54.0</td>\n",
       "      <td>0</td>\n",
       "      <td>0</td>\n",
       "      <td>17463</td>\n",
       "      <td>51.8625</td>\n",
       "      <td>E46</td>\n",
       "      <td>S</td>\n",
       "    </tr>\n",
       "    <tr>\n",
       "      <th>7</th>\n",
       "      <td>8</td>\n",
       "      <td>0</td>\n",
       "      <td>3</td>\n",
       "      <td>Palsson, Master. Gosta Leonard</td>\n",
       "      <td>male</td>\n",
       "      <td>2.0</td>\n",
       "      <td>3</td>\n",
       "      <td>1</td>\n",
       "      <td>349909</td>\n",
       "      <td>21.0750</td>\n",
       "      <td>NaN</td>\n",
       "      <td>S</td>\n",
       "    </tr>\n",
       "    <tr>\n",
       "      <th>8</th>\n",
       "      <td>9</td>\n",
       "      <td>1</td>\n",
       "      <td>3</td>\n",
       "      <td>Johnson, Mrs. Oscar W (Elisabeth Vilhelmina Berg)</td>\n",
       "      <td>female</td>\n",
       "      <td>27.0</td>\n",
       "      <td>0</td>\n",
       "      <td>2</td>\n",
       "      <td>347742</td>\n",
       "      <td>11.1333</td>\n",
       "      <td>NaN</td>\n",
       "      <td>S</td>\n",
       "    </tr>\n",
       "    <tr>\n",
       "      <th>9</th>\n",
       "      <td>10</td>\n",
       "      <td>1</td>\n",
       "      <td>2</td>\n",
       "      <td>Nasser, Mrs. Nicholas (Adele Achem)</td>\n",
       "      <td>female</td>\n",
       "      <td>14.0</td>\n",
       "      <td>1</td>\n",
       "      <td>0</td>\n",
       "      <td>237736</td>\n",
       "      <td>30.0708</td>\n",
       "      <td>NaN</td>\n",
       "      <td>C</td>\n",
       "    </tr>\n",
       "  </tbody>\n",
       "</table>\n",
       "</div>"
      ],
      "text/plain": [
       "   PassengerId  Survived  Pclass  \\\n",
       "0            1         0       3   \n",
       "1            2         1       1   \n",
       "2            3         1       3   \n",
       "3            4         1       1   \n",
       "4            5         0       3   \n",
       "5            6         0       3   \n",
       "6            7         0       1   \n",
       "7            8         0       3   \n",
       "8            9         1       3   \n",
       "9           10         1       2   \n",
       "\n",
       "                                                Name     Sex   Age  SibSp  \\\n",
       "0                            Braund, Mr. Owen Harris    male  22.0      1   \n",
       "1  Cumings, Mrs. John Bradley (Florence Briggs Th...  female  38.0      1   \n",
       "2                             Heikkinen, Miss. Laina  female  26.0      0   \n",
       "3       Futrelle, Mrs. Jacques Heath (Lily May Peel)  female  35.0      1   \n",
       "4                           Allen, Mr. William Henry    male  35.0      0   \n",
       "5                                   Moran, Mr. James    male   NaN      0   \n",
       "6                            McCarthy, Mr. Timothy J    male  54.0      0   \n",
       "7                     Palsson, Master. Gosta Leonard    male   2.0      3   \n",
       "8  Johnson, Mrs. Oscar W (Elisabeth Vilhelmina Berg)  female  27.0      0   \n",
       "9                Nasser, Mrs. Nicholas (Adele Achem)  female  14.0      1   \n",
       "\n",
       "   Parch            Ticket     Fare Cabin Embarked  \n",
       "0      0         A/5 21171   7.2500   NaN        S  \n",
       "1      0          PC 17599  71.2833   C85        C  \n",
       "2      0  STON/O2. 3101282   7.9250   NaN        S  \n",
       "3      0            113803  53.1000  C123        S  \n",
       "4      0            373450   8.0500   NaN        S  \n",
       "5      0            330877   8.4583   NaN        Q  \n",
       "6      0             17463  51.8625   E46        S  \n",
       "7      1            349909  21.0750   NaN        S  \n",
       "8      2            347742  11.1333   NaN        S  \n",
       "9      0            237736  30.0708   NaN        C  "
      ]
     },
     "execution_count": 2,
     "metadata": {},
     "output_type": "execute_result"
    }
   ],
   "source": [
    "train_cpy=pd.read_csv(\"/kaggle/input/titanic/train.csv\")\n",
    "test_cpy = pd.read_csv(\"/kaggle/input/titanic/test.csv\")\n",
    "train_data=train_cpy.copy()\n",
    "test_data=test_cpy.copy()\n",
    "train_data.head(10)"
   ]
  },
  {
   "cell_type": "code",
   "execution_count": 3,
   "id": "11866fde",
   "metadata": {
    "execution": {
     "iopub.execute_input": "2021-07-24T07:07:08.608422Z",
     "iopub.status.busy": "2021-07-24T07:07:08.607812Z",
     "iopub.status.idle": "2021-07-24T07:07:08.630302Z",
     "shell.execute_reply": "2021-07-24T07:07:08.629694Z",
     "shell.execute_reply.started": "2021-07-24T07:03:50.610352Z"
    },
    "papermill": {
     "duration": 0.056439,
     "end_time": "2021-07-24T07:07:08.630462",
     "exception": false,
     "start_time": "2021-07-24T07:07:08.574023",
     "status": "completed"
    },
    "tags": []
   },
   "outputs": [
    {
     "name": "stdout",
     "output_type": "stream",
     "text": [
      "<class 'pandas.core.frame.DataFrame'>\n",
      "RangeIndex: 891 entries, 0 to 890\n",
      "Data columns (total 12 columns):\n",
      " #   Column       Non-Null Count  Dtype  \n",
      "---  ------       --------------  -----  \n",
      " 0   PassengerId  891 non-null    int64  \n",
      " 1   Survived     891 non-null    int64  \n",
      " 2   Pclass       891 non-null    int64  \n",
      " 3   Name         891 non-null    object \n",
      " 4   Sex          891 non-null    object \n",
      " 5   Age          714 non-null    float64\n",
      " 6   SibSp        891 non-null    int64  \n",
      " 7   Parch        891 non-null    int64  \n",
      " 8   Ticket       891 non-null    object \n",
      " 9   Fare         891 non-null    float64\n",
      " 10  Cabin        204 non-null    object \n",
      " 11  Embarked     889 non-null    object \n",
      "dtypes: float64(2), int64(5), object(5)\n",
      "memory usage: 83.7+ KB\n"
     ]
    }
   ],
   "source": [
    "train_data.info()"
   ]
  },
  {
   "cell_type": "code",
   "execution_count": 4,
   "id": "e6b2cace",
   "metadata": {
    "execution": {
     "iopub.execute_input": "2021-07-24T07:07:08.702608Z",
     "iopub.status.busy": "2021-07-24T07:07:08.701882Z",
     "iopub.status.idle": "2021-07-24T07:07:08.736898Z",
     "shell.execute_reply": "2021-07-24T07:07:08.736263Z",
     "shell.execute_reply.started": "2021-07-24T07:03:50.637717Z"
    },
    "papermill": {
     "duration": 0.071077,
     "end_time": "2021-07-24T07:07:08.737040",
     "exception": false,
     "start_time": "2021-07-24T07:07:08.665963",
     "status": "completed"
    },
    "tags": []
   },
   "outputs": [
    {
     "data": {
      "text/html": [
       "<div>\n",
       "<style scoped>\n",
       "    .dataframe tbody tr th:only-of-type {\n",
       "        vertical-align: middle;\n",
       "    }\n",
       "\n",
       "    .dataframe tbody tr th {\n",
       "        vertical-align: top;\n",
       "    }\n",
       "\n",
       "    .dataframe thead th {\n",
       "        text-align: right;\n",
       "    }\n",
       "</style>\n",
       "<table border=\"1\" class=\"dataframe\">\n",
       "  <thead>\n",
       "    <tr style=\"text-align: right;\">\n",
       "      <th></th>\n",
       "      <th>PassengerId</th>\n",
       "      <th>Survived</th>\n",
       "      <th>Pclass</th>\n",
       "      <th>Age</th>\n",
       "      <th>SibSp</th>\n",
       "      <th>Parch</th>\n",
       "      <th>Fare</th>\n",
       "    </tr>\n",
       "  </thead>\n",
       "  <tbody>\n",
       "    <tr>\n",
       "      <th>count</th>\n",
       "      <td>891.000000</td>\n",
       "      <td>891.000000</td>\n",
       "      <td>891.000000</td>\n",
       "      <td>714.000000</td>\n",
       "      <td>891.000000</td>\n",
       "      <td>891.000000</td>\n",
       "      <td>891.000000</td>\n",
       "    </tr>\n",
       "    <tr>\n",
       "      <th>mean</th>\n",
       "      <td>446.000000</td>\n",
       "      <td>0.383838</td>\n",
       "      <td>2.308642</td>\n",
       "      <td>29.699118</td>\n",
       "      <td>0.523008</td>\n",
       "      <td>0.381594</td>\n",
       "      <td>32.204208</td>\n",
       "    </tr>\n",
       "    <tr>\n",
       "      <th>std</th>\n",
       "      <td>257.353842</td>\n",
       "      <td>0.486592</td>\n",
       "      <td>0.836071</td>\n",
       "      <td>14.526497</td>\n",
       "      <td>1.102743</td>\n",
       "      <td>0.806057</td>\n",
       "      <td>49.693429</td>\n",
       "    </tr>\n",
       "    <tr>\n",
       "      <th>min</th>\n",
       "      <td>1.000000</td>\n",
       "      <td>0.000000</td>\n",
       "      <td>1.000000</td>\n",
       "      <td>0.420000</td>\n",
       "      <td>0.000000</td>\n",
       "      <td>0.000000</td>\n",
       "      <td>0.000000</td>\n",
       "    </tr>\n",
       "    <tr>\n",
       "      <th>25%</th>\n",
       "      <td>223.500000</td>\n",
       "      <td>0.000000</td>\n",
       "      <td>2.000000</td>\n",
       "      <td>20.125000</td>\n",
       "      <td>0.000000</td>\n",
       "      <td>0.000000</td>\n",
       "      <td>7.910400</td>\n",
       "    </tr>\n",
       "    <tr>\n",
       "      <th>50%</th>\n",
       "      <td>446.000000</td>\n",
       "      <td>0.000000</td>\n",
       "      <td>3.000000</td>\n",
       "      <td>28.000000</td>\n",
       "      <td>0.000000</td>\n",
       "      <td>0.000000</td>\n",
       "      <td>14.454200</td>\n",
       "    </tr>\n",
       "    <tr>\n",
       "      <th>75%</th>\n",
       "      <td>668.500000</td>\n",
       "      <td>1.000000</td>\n",
       "      <td>3.000000</td>\n",
       "      <td>38.000000</td>\n",
       "      <td>1.000000</td>\n",
       "      <td>0.000000</td>\n",
       "      <td>31.000000</td>\n",
       "    </tr>\n",
       "    <tr>\n",
       "      <th>max</th>\n",
       "      <td>891.000000</td>\n",
       "      <td>1.000000</td>\n",
       "      <td>3.000000</td>\n",
       "      <td>80.000000</td>\n",
       "      <td>8.000000</td>\n",
       "      <td>6.000000</td>\n",
       "      <td>512.329200</td>\n",
       "    </tr>\n",
       "  </tbody>\n",
       "</table>\n",
       "</div>"
      ],
      "text/plain": [
       "       PassengerId    Survived      Pclass         Age       SibSp  \\\n",
       "count   891.000000  891.000000  891.000000  714.000000  891.000000   \n",
       "mean    446.000000    0.383838    2.308642   29.699118    0.523008   \n",
       "std     257.353842    0.486592    0.836071   14.526497    1.102743   \n",
       "min       1.000000    0.000000    1.000000    0.420000    0.000000   \n",
       "25%     223.500000    0.000000    2.000000   20.125000    0.000000   \n",
       "50%     446.000000    0.000000    3.000000   28.000000    0.000000   \n",
       "75%     668.500000    1.000000    3.000000   38.000000    1.000000   \n",
       "max     891.000000    1.000000    3.000000   80.000000    8.000000   \n",
       "\n",
       "            Parch        Fare  \n",
       "count  891.000000  891.000000  \n",
       "mean     0.381594   32.204208  \n",
       "std      0.806057   49.693429  \n",
       "min      0.000000    0.000000  \n",
       "25%      0.000000    7.910400  \n",
       "50%      0.000000   14.454200  \n",
       "75%      0.000000   31.000000  \n",
       "max      6.000000  512.329200  "
      ]
     },
     "execution_count": 4,
     "metadata": {},
     "output_type": "execute_result"
    }
   ],
   "source": [
    "train_data.describe()"
   ]
  },
  {
   "cell_type": "code",
   "execution_count": 5,
   "id": "3a4a81bc",
   "metadata": {
    "execution": {
     "iopub.execute_input": "2021-07-24T07:07:08.811743Z",
     "iopub.status.busy": "2021-07-24T07:07:08.811072Z",
     "iopub.status.idle": "2021-07-24T07:07:08.813990Z",
     "shell.execute_reply": "2021-07-24T07:07:08.814503Z",
     "shell.execute_reply.started": "2021-07-24T07:03:50.688382Z"
    },
    "papermill": {
     "duration": 0.041544,
     "end_time": "2021-07-24T07:07:08.814666",
     "exception": false,
     "start_time": "2021-07-24T07:07:08.773122",
     "status": "completed"
    },
    "tags": []
   },
   "outputs": [
    {
     "data": {
      "text/plain": [
       "Index(['PassengerId', 'Survived', 'Pclass', 'Name', 'Sex', 'Age', 'SibSp',\n",
       "       'Parch', 'Ticket', 'Fare', 'Cabin', 'Embarked'],\n",
       "      dtype='object')"
      ]
     },
     "execution_count": 5,
     "metadata": {},
     "output_type": "execute_result"
    }
   ],
   "source": [
    "train_data.columns"
   ]
  },
  {
   "cell_type": "code",
   "execution_count": 6,
   "id": "f58d1d11",
   "metadata": {
    "execution": {
     "iopub.execute_input": "2021-07-24T07:07:08.885289Z",
     "iopub.status.busy": "2021-07-24T07:07:08.884628Z",
     "iopub.status.idle": "2021-07-24T07:07:08.890025Z",
     "shell.execute_reply": "2021-07-24T07:07:08.890517Z",
     "shell.execute_reply.started": "2021-07-24T07:03:50.700143Z"
    },
    "papermill": {
     "duration": 0.041607,
     "end_time": "2021-07-24T07:07:08.890678",
     "exception": false,
     "start_time": "2021-07-24T07:07:08.849071",
     "status": "completed"
    },
    "tags": []
   },
   "outputs": [],
   "source": [
    "train_numeric=train_data[['Age','SibSp','Parch','Fare']]\n",
    "train_category=train_data[['Survived','Pclass','Sex','Ticket','Cabin','Embarked']]"
   ]
  },
  {
   "cell_type": "code",
   "execution_count": 7,
   "id": "4172f49d",
   "metadata": {
    "execution": {
     "iopub.execute_input": "2021-07-24T07:07:08.960044Z",
     "iopub.status.busy": "2021-07-24T07:07:08.959416Z",
     "iopub.status.idle": "2021-07-24T07:07:09.672653Z",
     "shell.execute_reply": "2021-07-24T07:07:09.673205Z",
     "shell.execute_reply.started": "2021-07-24T07:03:50.718143Z"
    },
    "papermill": {
     "duration": 0.749759,
     "end_time": "2021-07-24T07:07:09.673398",
     "exception": false,
     "start_time": "2021-07-24T07:07:08.923639",
     "status": "completed"
    },
    "tags": []
   },
   "outputs": [
    {
     "data": {
      "image/png": "[encoded data removed]",
      "text/plain": [
       "<Figure size 432x288 with 1 Axes>"
      ]
     },
     "metadata": {
      "needs_background": "light"
     },
     "output_type": "display_data"
    },
    {
     "data": {
      "image/png": "[encoded data removed]",
      "text/plain": [
       "<Figure size 432x288 with 1 Axes>"
      ]
     },
     "metadata": {
      "needs_background": "light"
     },
     "output_type": "display_data"
    },
    {
     "data": {
      "image/png": "[encoded data removed]",
      "text/plain": [
       "<Figure size 432x288 with 1 Axes>"
      ]
     },
     "metadata": {
      "needs_background": "light"
     },
     "output_type": "display_data"
    },
    {
     "data": {
      "image/png": "[encoded data removed]",
      "text/plain": [
       "<Figure size 432x288 with 1 Axes>"
      ]
     },
     "metadata": {
      "needs_background": "light"
     },
     "output_type": "display_data"
    }
   ],
   "source": [
    "for i in train_numeric.columns:\n",
    "    plt.hist(train_numeric[i])\n",
    "    plt.title(i)\n",
    "    plt.show()"
   ]
  },
  {
   "cell_type": "code",
   "execution_count": 8,
   "id": "c8317a54",
   "metadata": {
    "execution": {
     "iopub.execute_input": "2021-07-24T07:07:09.747410Z",
     "iopub.status.busy": "2021-07-24T07:07:09.746791Z",
     "iopub.status.idle": "2021-07-24T07:07:10.028171Z",
     "shell.execute_reply": "2021-07-24T07:07:10.028672Z",
     "shell.execute_reply.started": "2021-07-24T07:03:51.553212Z"
    },
    "papermill": {
     "duration": 0.319868,
     "end_time": "2021-07-24T07:07:10.028857",
     "exception": false,
     "start_time": "2021-07-24T07:07:09.708989",
     "status": "completed"
    },
    "tags": []
   },
   "outputs": [
    {
     "name": "stdout",
     "output_type": "stream",
     "text": [
      "            Age     SibSp     Parch      Fare\n",
      "Age    1.000000 -0.308247 -0.189119  0.096067\n",
      "SibSp -0.308247  1.000000  0.414838  0.159651\n",
      "Parch -0.189119  0.414838  1.000000  0.216225\n",
      "Fare   0.096067  0.159651  0.216225  1.000000\n"
     ]
    },
    {
     "data": {
      "text/plain": [
       "<AxesSubplot:>"
      ]
     },
     "execution_count": 8,
     "metadata": {},
     "output_type": "execute_result"
    },
    {
     "data": {
      "image/png": "[encoded data removed]",
      "text/plain": [
       "<Figure size 432x288 with 2 Axes>"
      ]
     },
     "metadata": {
      "needs_background": "light"
     },
     "output_type": "display_data"
    }
   ],
   "source": [
    "print(train_numeric.corr())\n",
    "sns.heatmap(train_numeric.corr())"
   ]
  },
  {
   "cell_type": "code",
   "execution_count": 9,
   "id": "1353d7fa",
   "metadata": {
    "execution": {
     "iopub.execute_input": "2021-07-24T07:07:10.106009Z",
     "iopub.status.busy": "2021-07-24T07:07:10.105379Z",
     "iopub.status.idle": "2021-07-24T07:07:10.146142Z",
     "shell.execute_reply": "2021-07-24T07:07:10.145542Z",
     "shell.execute_reply.started": "2021-07-24T07:03:51.909007Z"
    },
    "papermill": {
     "duration": 0.080472,
     "end_time": "2021-07-24T07:07:10.146290",
     "exception": false,
     "start_time": "2021-07-24T07:07:10.065818",
     "status": "completed"
    },
    "tags": []
   },
   "outputs": [
    {
     "data": {
      "text/html": [
       "<div>\n",
       "<style scoped>\n",
       "    .dataframe tbody tr th:only-of-type {\n",
       "        vertical-align: middle;\n",
       "    }\n",
       "\n",
       "    .dataframe tbody tr th {\n",
       "        vertical-align: top;\n",
       "    }\n",
       "\n",
       "    .dataframe thead th {\n",
       "        text-align: right;\n",
       "    }\n",
       "</style>\n",
       "<table border=\"1\" class=\"dataframe\">\n",
       "  <thead>\n",
       "    <tr style=\"text-align: right;\">\n",
       "      <th></th>\n",
       "      <th>Age</th>\n",
       "      <th>Fare</th>\n",
       "      <th>Parch</th>\n",
       "      <th>SibSp</th>\n",
       "    </tr>\n",
       "    <tr>\n",
       "      <th>Survived</th>\n",
       "      <th></th>\n",
       "      <th></th>\n",
       "      <th></th>\n",
       "      <th></th>\n",
       "    </tr>\n",
       "  </thead>\n",
       "  <tbody>\n",
       "    <tr>\n",
       "      <th>0</th>\n",
       "      <td>30.626179</td>\n",
       "      <td>22.117887</td>\n",
       "      <td>0.329690</td>\n",
       "      <td>0.553734</td>\n",
       "    </tr>\n",
       "    <tr>\n",
       "      <th>1</th>\n",
       "      <td>28.343690</td>\n",
       "      <td>48.395408</td>\n",
       "      <td>0.464912</td>\n",
       "      <td>0.473684</td>\n",
       "    </tr>\n",
       "  </tbody>\n",
       "</table>\n",
       "</div>"
      ],
      "text/plain": [
       "                Age       Fare     Parch     SibSp\n",
       "Survived                                          \n",
       "0         30.626179  22.117887  0.329690  0.553734\n",
       "1         28.343690  48.395408  0.464912  0.473684"
      ]
     },
     "execution_count": 9,
     "metadata": {},
     "output_type": "execute_result"
    }
   ],
   "source": [
    "#average age,fare,parents,sibblings of people survived and not survived\n",
    "#pivot table for survival vs numeric columns\n",
    "pd.pivot_table(train_data,index='Survived',values=train_numeric.columns)"
   ]
  },
  {
   "cell_type": "code",
   "execution_count": 10,
   "id": "eceeb354",
   "metadata": {
    "execution": {
     "iopub.execute_input": "2021-07-24T07:07:10.228767Z",
     "iopub.status.busy": "2021-07-24T07:07:10.227763Z",
     "iopub.status.idle": "2021-07-24T07:07:22.634929Z",
     "shell.execute_reply": "2021-07-24T07:07:22.634378Z",
     "shell.execute_reply.started": "2021-07-24T07:03:51.944134Z"
    },
    "papermill": {
     "duration": 12.450551,
     "end_time": "2021-07-24T07:07:22.635064",
     "exception": false,
     "start_time": "2021-07-24T07:07:10.184513",
     "status": "completed"
    },
    "tags": []
   },
   "outputs": [
    {
     "data": {
      "image/png": "[encoded data removed]",
      "text/plain": [
       "<Figure size 432x288 with 1 Axes>"
      ]
     },
     "metadata": {
      "needs_background": "light"
     },
     "output_type": "display_data"
    },
    {
     "data": {
      "image/png": "[encoded data removed]",
      "text/plain": [
       "<Figure size 432x288 with 1 Axes>"
      ]
     },
     "metadata": {
      "needs_background": "light"
     },
     "output_type": "display_data"
    },
    {
     "data": {
      "image/png": "[encoded data removed]",
      "text/plain": [
       "<Figure size 432x288 with 1 Axes>"
      ]
     },
     "metadata": {
      "needs_background": "light"
     },
     "output_type": "display_data"
    },
    {
     "data": {
      "image/png": "[encoded data removed]",
      "text/plain": [
       "<Figure size 432x288 with 1 Axes>"
      ]
     },
     "metadata": {
      "needs_background": "light"
     },
     "output_type": "display_data"
    },
    {
     "data": {
      "image/png": "[encoded data removed]",
      "text/plain": [
       "<Figure size 432x288 with 1 Axes>"
      ]
     },
     "metadata": {
      "needs_background": "light"
     },
     "output_type": "display_data"
    },
    {
     "data": {
      "image/png": "[encoded data removed]",
      "text/plain": [
       "<Figure size 432x288 with 1 Axes>"
      ]
     },
     "metadata": {
      "needs_background": "light"
     },
     "output_type": "display_data"
    }
   ],
   "source": [
    "for i in train_category.columns:\n",
    "    sns.countplot(x=train_category[i])\n",
    "    plt.title(i)\n",
    "    plt.show()"
   ]
  },
  {
   "cell_type": "code",
   "execution_count": 11,
   "id": "74966e65",
   "metadata": {
    "execution": {
     "iopub.execute_input": "2021-07-24T07:07:22.732188Z",
     "iopub.status.busy": "2021-07-24T07:07:22.731244Z",
     "iopub.status.idle": "2021-07-24T07:07:22.768661Z",
     "shell.execute_reply": "2021-07-24T07:07:22.767892Z",
     "shell.execute_reply.started": "2021-07-24T07:04:05.266649Z"
    },
    "papermill": {
     "duration": 0.092243,
     "end_time": "2021-07-24T07:07:22.768842",
     "exception": false,
     "start_time": "2021-07-24T07:07:22.676599",
     "status": "completed"
    },
    "tags": []
   },
   "outputs": [
    {
     "name": "stdout",
     "output_type": "stream",
     "text": [
      "Pclass      1   2    3\n",
      "Survived              \n",
      "0          80  97  372\n",
      "1         136  87  119\n",
      "\n",
      "Sex       female  male\n",
      "Survived              \n",
      "0             81   468\n",
      "1            233   109\n",
      "\n",
      "Embarked   C   Q    S\n",
      "Survived             \n",
      "0         75  47  427\n",
      "1         93  30  217\n",
      "\n"
     ]
    }
   ],
   "source": [
    "#pivot table for Categorical  columns\n",
    "print(pd.pivot_table(train_data,index='Survived',columns='Pclass',values='PassengerId',aggfunc='count'))\n",
    "print()\n",
    "print(pd.pivot_table(train_data,index='Survived',columns='Sex',values='PassengerId',aggfunc='count'))\n",
    "print()\n",
    "print(pd.pivot_table(train_data,index='Survived',columns='Embarked',values='PassengerId',aggfunc='count'))\n",
    "print()"
   ]
  },
  {
   "cell_type": "code",
   "execution_count": 12,
   "id": "43d1bd90",
   "metadata": {
    "execution": {
     "iopub.execute_input": "2021-07-24T07:07:22.862862Z",
     "iopub.status.busy": "2021-07-24T07:07:22.861152Z",
     "iopub.status.idle": "2021-07-24T07:07:22.867592Z",
     "shell.execute_reply": "2021-07-24T07:07:22.868212Z",
     "shell.execute_reply.started": "2021-07-24T07:04:05.328599Z"
    },
    "papermill": {
     "duration": 0.054971,
     "end_time": "2021-07-24T07:07:22.868438",
     "exception": false,
     "start_time": "2021-07-24T07:07:22.813467",
     "status": "completed"
    },
    "tags": []
   },
   "outputs": [
    {
     "name": "stdout",
     "output_type": "stream",
     "text": [
      "0    687\n",
      "1    180\n",
      "2     16\n",
      "3      6\n",
      "4      2\n",
      "Name: CabinCount, dtype: int64\n"
     ]
    }
   ],
   "source": [
    "train_data['CabinCount']=train_data.Cabin.apply(lambda x:0 if pd.isna(x) else len(x.split(' ')))\n",
    "print(train_data['CabinCount'].value_counts())"
   ]
  },
  {
   "cell_type": "code",
   "execution_count": 13,
   "id": "5601fb52",
   "metadata": {
    "execution": {
     "iopub.execute_input": "2021-07-24T07:07:22.963111Z",
     "iopub.status.busy": "2021-07-24T07:07:22.961179Z",
     "iopub.status.idle": "2021-07-24T07:07:22.982167Z",
     "shell.execute_reply": "2021-07-24T07:07:22.981516Z",
     "shell.execute_reply.started": "2021-07-24T07:04:05.345647Z"
    },
    "papermill": {
     "duration": 0.071648,
     "end_time": "2021-07-24T07:07:22.982314",
     "exception": false,
     "start_time": "2021-07-24T07:07:22.910666",
     "status": "completed"
    },
    "tags": []
   },
   "outputs": [
    {
     "name": "stdout",
     "output_type": "stream",
     "text": [
      "N    687\n",
      "C     59\n",
      "B     47\n",
      "D     33\n",
      "E     32\n",
      "A     15\n",
      "F     13\n",
      "G      4\n",
      "T      1\n",
      "Name: Cabin, dtype: int64\n",
      "Cabin       A     B     C     D     E    F    G      N    T\n",
      "Survived                                                   \n",
      "0         8.0  12.0  24.0   8.0   8.0  5.0  2.0  481.0  1.0\n",
      "1         7.0  35.0  35.0  25.0  24.0  8.0  2.0  206.0  NaN\n"
     ]
    }
   ],
   "source": [
    "train_data['Cabin']=train_data['Cabin'].apply(lambda x:str(x)[0].upper())\n",
    "print(train_data['Cabin'].value_counts())\n",
    "print(pd.pivot_table(train_data,index='Survived',columns='Cabin',values='Name',aggfunc='count'))"
   ]
  },
  {
   "cell_type": "code",
   "execution_count": 14,
   "id": "c11dde9d",
   "metadata": {
    "execution": {
     "iopub.execute_input": "2021-07-24T07:07:23.087295Z",
     "iopub.status.busy": "2021-07-24T07:07:23.086572Z",
     "iopub.status.idle": "2021-07-24T07:07:23.090404Z",
     "shell.execute_reply": "2021-07-24T07:07:23.089784Z",
     "shell.execute_reply.started": "2021-07-24T07:04:05.381600Z"
    },
    "papermill": {
     "duration": 0.065801,
     "end_time": "2021-07-24T07:07:23.090540",
     "exception": false,
     "start_time": "2021-07-24T07:07:23.024739",
     "status": "completed"
    },
    "tags": []
   },
   "outputs": [
    {
     "name": "stdout",
     "output_type": "stream",
     "text": [
      "<class 'pandas.core.frame.DataFrame'>\n",
      "RangeIndex: 891 entries, 0 to 890\n",
      "Data columns (total 13 columns):\n",
      " #   Column       Non-Null Count  Dtype  \n",
      "---  ------       --------------  -----  \n",
      " 0   PassengerId  891 non-null    int64  \n",
      " 1   Survived     891 non-null    int64  \n",
      " 2   Pclass       891 non-null    int64  \n",
      " 3   Name         891 non-null    object \n",
      " 4   Sex          891 non-null    object \n",
      " 5   Age          714 non-null    float64\n",
      " 6   SibSp        891 non-null    int64  \n",
      " 7   Parch        891 non-null    int64  \n",
      " 8   Ticket       891 non-null    object \n",
      " 9   Fare         891 non-null    float64\n",
      " 10  Cabin        891 non-null    object \n",
      " 11  Embarked     889 non-null    object \n",
      " 12  CabinCount   891 non-null    int64  \n",
      "dtypes: float64(2), int64(6), object(5)\n",
      "memory usage: 90.6+ KB\n"
     ]
    }
   ],
   "source": [
    "train_data.info()\n",
    "train_data['Age']=train_data['Age'].fillna(train_data['Age'].median())\n",
    "train_data.dropna(subset=['Embarked'],inplace=True)\n"
   ]
  },
  {
   "cell_type": "code",
   "execution_count": 15,
   "id": "1095c4e3",
   "metadata": {
    "execution": {
     "iopub.execute_input": "2021-07-24T07:07:23.186796Z",
     "iopub.status.busy": "2021-07-24T07:07:23.185983Z",
     "iopub.status.idle": "2021-07-24T07:07:23.190145Z",
     "shell.execute_reply": "2021-07-24T07:07:23.189544Z",
     "shell.execute_reply.started": "2021-07-24T07:04:05.412979Z"
    },
    "papermill": {
     "duration": 0.056262,
     "end_time": "2021-07-24T07:07:23.190288",
     "exception": false,
     "start_time": "2021-07-24T07:07:23.134026",
     "status": "completed"
    },
    "tags": []
   },
   "outputs": [],
   "source": [
    "train_data['Title']=train_data.Name.apply(lambda x:str(x).split(',')[1].split('.')[0])\n",
    "train_data.drop('Name',axis=1,inplace=True)"
   ]
  },
  {
   "cell_type": "code",
   "execution_count": 16,
   "id": "c5a31493",
   "metadata": {
    "execution": {
     "iopub.execute_input": "2021-07-24T07:07:23.294809Z",
     "iopub.status.busy": "2021-07-24T07:07:23.294124Z",
     "iopub.status.idle": "2021-07-24T07:07:23.298698Z",
     "shell.execute_reply": "2021-07-24T07:07:23.299195Z",
     "shell.execute_reply.started": "2021-07-24T07:04:05.432821Z"
    },
    "papermill": {
     "duration": 0.065811,
     "end_time": "2021-07-24T07:07:23.299378",
     "exception": false,
     "start_time": "2021-07-24T07:07:23.233567",
     "status": "completed"
    },
    "tags": []
   },
   "outputs": [
    {
     "data": {
      "text/html": [
       "<div>\n",
       "<style scoped>\n",
       "    .dataframe tbody tr th:only-of-type {\n",
       "        vertical-align: middle;\n",
       "    }\n",
       "\n",
       "    .dataframe tbody tr th {\n",
       "        vertical-align: top;\n",
       "    }\n",
       "\n",
       "    .dataframe thead th {\n",
       "        text-align: right;\n",
       "    }\n",
       "</style>\n",
       "<table border=\"1\" class=\"dataframe\">\n",
       "  <thead>\n",
       "    <tr style=\"text-align: right;\">\n",
       "      <th></th>\n",
       "      <th>Survived</th>\n",
       "      <th>Pclass</th>\n",
       "      <th>Sex</th>\n",
       "      <th>Age</th>\n",
       "      <th>SibSp</th>\n",
       "      <th>Parch</th>\n",
       "      <th>Fare</th>\n",
       "      <th>Cabin</th>\n",
       "      <th>Embarked</th>\n",
       "      <th>CabinCount</th>\n",
       "      <th>Title</th>\n",
       "    </tr>\n",
       "  </thead>\n",
       "  <tbody>\n",
       "    <tr>\n",
       "      <th>0</th>\n",
       "      <td>0</td>\n",
       "      <td>3</td>\n",
       "      <td>male</td>\n",
       "      <td>22.0</td>\n",
       "      <td>1</td>\n",
       "      <td>0</td>\n",
       "      <td>7.2500</td>\n",
       "      <td>N</td>\n",
       "      <td>S</td>\n",
       "      <td>0</td>\n",
       "      <td>Mr</td>\n",
       "    </tr>\n",
       "    <tr>\n",
       "      <th>1</th>\n",
       "      <td>1</td>\n",
       "      <td>1</td>\n",
       "      <td>female</td>\n",
       "      <td>38.0</td>\n",
       "      <td>1</td>\n",
       "      <td>0</td>\n",
       "      <td>71.2833</td>\n",
       "      <td>C</td>\n",
       "      <td>C</td>\n",
       "      <td>1</td>\n",
       "      <td>Mrs</td>\n",
       "    </tr>\n",
       "    <tr>\n",
       "      <th>2</th>\n",
       "      <td>1</td>\n",
       "      <td>3</td>\n",
       "      <td>female</td>\n",
       "      <td>26.0</td>\n",
       "      <td>0</td>\n",
       "      <td>0</td>\n",
       "      <td>7.9250</td>\n",
       "      <td>N</td>\n",
       "      <td>S</td>\n",
       "      <td>0</td>\n",
       "      <td>Miss</td>\n",
       "    </tr>\n",
       "    <tr>\n",
       "      <th>3</th>\n",
       "      <td>1</td>\n",
       "      <td>1</td>\n",
       "      <td>female</td>\n",
       "      <td>35.0</td>\n",
       "      <td>1</td>\n",
       "      <td>0</td>\n",
       "      <td>53.1000</td>\n",
       "      <td>C</td>\n",
       "      <td>S</td>\n",
       "      <td>1</td>\n",
       "      <td>Mrs</td>\n",
       "    </tr>\n",
       "    <tr>\n",
       "      <th>4</th>\n",
       "      <td>0</td>\n",
       "      <td>3</td>\n",
       "      <td>male</td>\n",
       "      <td>35.0</td>\n",
       "      <td>0</td>\n",
       "      <td>0</td>\n",
       "      <td>8.0500</td>\n",
       "      <td>N</td>\n",
       "      <td>S</td>\n",
       "      <td>0</td>\n",
       "      <td>Mr</td>\n",
       "    </tr>\n",
       "  </tbody>\n",
       "</table>\n",
       "</div>"
      ],
      "text/plain": [
       "   Survived  Pclass     Sex   Age  SibSp  Parch     Fare Cabin Embarked  \\\n",
       "0         0       3    male  22.0      1      0   7.2500     N        S   \n",
       "1         1       1  female  38.0      1      0  71.2833     C        C   \n",
       "2         1       3  female  26.0      0      0   7.9250     N        S   \n",
       "3         1       1  female  35.0      1      0  53.1000     C        S   \n",
       "4         0       3    male  35.0      0      0   8.0500     N        S   \n",
       "\n",
       "   CabinCount  Title  \n",
       "0           0     Mr  \n",
       "1           1    Mrs  \n",
       "2           0   Miss  \n",
       "3           1    Mrs  \n",
       "4           0     Mr  "
      ]
     },
     "execution_count": 16,
     "metadata": {},
     "output_type": "execute_result"
    }
   ],
   "source": [
    "train_data.drop(['PassengerId','Ticket'],axis=1,inplace=True)\n",
    "train_data.head()"
   ]
  },
  {
   "cell_type": "code",
   "execution_count": 17,
   "id": "7aa0fd58",
   "metadata": {
    "_kg_hide-input": false,
    "execution": {
     "iopub.execute_input": "2021-07-24T07:07:23.403044Z",
     "iopub.status.busy": "2021-07-24T07:07:23.402409Z",
     "iopub.status.idle": "2021-07-24T07:07:23.405543Z",
     "shell.execute_reply": "2021-07-24T07:07:23.405019Z",
     "shell.execute_reply.started": "2021-07-24T07:04:05.466581Z"
    },
    "papermill": {
     "duration": 0.062939,
     "end_time": "2021-07-24T07:07:23.405674",
     "exception": false,
     "start_time": "2021-07-24T07:07:23.342735",
     "status": "completed"
    },
    "tags": []
   },
   "outputs": [],
   "source": [
    "test_data['Title']=test_data.Name.apply(lambda x:str(x).split(',')[1].split('.')[0])\n",
    "test_data.drop(['PassengerId','Ticket','Name'],axis=1,inplace=True)\n",
    "test_data['CabinCount']=test_data.Cabin.apply(lambda x:0 if pd.isna(x) else len(x.split(' ')))\n",
    "test_data['Cabin']=test_data['Cabin'].apply(lambda x:str(x)[0].upper())\n",
    "test_data['Age']=test_data['Age'].fillna(test_data['Age'].median())\n",
    "test_data.dropna(subset=['Embarked'],inplace=True)"
   ]
  },
  {
   "cell_type": "code",
   "execution_count": 18,
   "id": "f2cd9c77",
   "metadata": {
    "execution": {
     "iopub.execute_input": "2021-07-24T07:07:23.497564Z",
     "iopub.status.busy": "2021-07-24T07:07:23.496874Z",
     "iopub.status.idle": "2021-07-24T07:07:23.500146Z",
     "shell.execute_reply": "2021-07-24T07:07:23.499543Z",
     "shell.execute_reply.started": "2021-07-24T07:04:05.833367Z"
    },
    "papermill": {
     "duration": 0.05137,
     "end_time": "2021-07-24T07:07:23.500290",
     "exception": false,
     "start_time": "2021-07-24T07:07:23.448920",
     "status": "completed"
    },
    "tags": []
   },
   "outputs": [],
   "source": [
    "#train_data['Sex']=[0 if train_data['Sex'][i]=='male' else 1 for i in train_data.index]\n",
    "#test_data['Sex']=[0 if test_data['Sex'][i]=='male' else 1 for i in test_data.index]"
   ]
  },
  {
   "cell_type": "code",
   "execution_count": 19,
   "id": "ce869cbf",
   "metadata": {
    "execution": {
     "iopub.execute_input": "2021-07-24T07:07:23.594838Z",
     "iopub.status.busy": "2021-07-24T07:07:23.593854Z",
     "iopub.status.idle": "2021-07-24T07:07:23.596890Z",
     "shell.execute_reply": "2021-07-24T07:07:23.596257Z",
     "shell.execute_reply.started": "2021-07-24T07:04:05.848216Z"
    },
    "papermill": {
     "duration": 0.053283,
     "end_time": "2021-07-24T07:07:23.597023",
     "exception": false,
     "start_time": "2021-07-24T07:07:23.543740",
     "status": "completed"
    },
    "tags": []
   },
   "outputs": [],
   "source": [
    "train_data.drop(['Cabin'],axis=1,inplace=True)\n",
    "test_data.drop(['Cabin'],axis=1,inplace=True)"
   ]
  },
  {
   "cell_type": "code",
   "execution_count": 20,
   "id": "cbb2f79d",
   "metadata": {
    "execution": {
     "iopub.execute_input": "2021-07-24T07:07:23.690958Z",
     "iopub.status.busy": "2021-07-24T07:07:23.689988Z",
     "iopub.status.idle": "2021-07-24T07:07:23.693181Z",
     "shell.execute_reply": "2021-07-24T07:07:23.692694Z",
     "shell.execute_reply.started": "2021-07-24T07:04:05.871010Z"
    },
    "papermill": {
     "duration": 0.053153,
     "end_time": "2021-07-24T07:07:23.693315",
     "exception": false,
     "start_time": "2021-07-24T07:07:23.640162",
     "status": "completed"
    },
    "tags": []
   },
   "outputs": [],
   "source": [
    "train_data.drop(['Title'],axis=1,inplace=True)\n",
    "test_data.drop(['Title'],axis=1,inplace=True)"
   ]
  },
  {
   "cell_type": "code",
   "execution_count": 21,
   "id": "f0880c66",
   "metadata": {
    "execution": {
     "iopub.execute_input": "2021-07-24T07:07:23.793099Z",
     "iopub.status.busy": "2021-07-24T07:07:23.792387Z",
     "iopub.status.idle": "2021-07-24T07:07:23.795955Z",
     "shell.execute_reply": "2021-07-24T07:07:23.795262Z",
     "shell.execute_reply.started": "2021-07-24T07:04:05.888866Z"
    },
    "papermill": {
     "duration": 0.059675,
     "end_time": "2021-07-24T07:07:23.796101",
     "exception": false,
     "start_time": "2021-07-24T07:07:23.736426",
     "status": "completed"
    },
    "tags": []
   },
   "outputs": [
    {
     "name": "stdout",
     "output_type": "stream",
     "text": [
      "   Pclass     Sex   Age  SibSp  Parch     Fare Embarked  CabinCount\n",
      "0       3    male  34.5      0      0   7.8292        Q           0\n",
      "1       3  female  47.0      1      0   7.0000        S           0\n",
      "2       2    male  62.0      0      0   9.6875        Q           0\n",
      "3       3    male  27.0      0      0   8.6625        S           0\n",
      "4       3  female  22.0      1      1  12.2875        S           0\n",
      "   Survived  Pclass     Sex   Age  SibSp  Parch     Fare Embarked  CabinCount\n",
      "0         0       3    male  22.0      1      0   7.2500        S           0\n",
      "1         1       1  female  38.0      1      0  71.2833        C           1\n",
      "2         1       3  female  26.0      0      0   7.9250        S           0\n",
      "3         1       1  female  35.0      1      0  53.1000        S           1\n",
      "4         0       3    male  35.0      0      0   8.0500        S           0\n"
     ]
    }
   ],
   "source": [
    "print(test_data.head())\n",
    "print(train_data.head())"
   ]
  },
  {
   "cell_type": "code",
   "execution_count": 22,
   "id": "44457865",
   "metadata": {
    "execution": {
     "iopub.execute_input": "2021-07-24T07:07:23.897787Z",
     "iopub.status.busy": "2021-07-24T07:07:23.894088Z",
     "iopub.status.idle": "2021-07-24T07:07:23.925258Z",
     "shell.execute_reply": "2021-07-24T07:07:23.924620Z",
     "shell.execute_reply.started": "2021-07-24T07:04:05.916015Z"
    },
    "papermill": {
     "duration": 0.080732,
     "end_time": "2021-07-24T07:07:23.925407",
     "exception": false,
     "start_time": "2021-07-24T07:07:23.844675",
     "status": "completed"
    },
    "tags": []
   },
   "outputs": [
    {
     "data": {
      "text/html": [
       "<div>\n",
       "<style scoped>\n",
       "    .dataframe tbody tr th:only-of-type {\n",
       "        vertical-align: middle;\n",
       "    }\n",
       "\n",
       "    .dataframe tbody tr th {\n",
       "        vertical-align: top;\n",
       "    }\n",
       "\n",
       "    .dataframe thead th {\n",
       "        text-align: right;\n",
       "    }\n",
       "</style>\n",
       "<table border=\"1\" class=\"dataframe\">\n",
       "  <thead>\n",
       "    <tr style=\"text-align: right;\">\n",
       "      <th></th>\n",
       "      <th>Survived</th>\n",
       "      <th>Pclass</th>\n",
       "      <th>Sex</th>\n",
       "      <th>Age</th>\n",
       "      <th>SibSp</th>\n",
       "      <th>Parch</th>\n",
       "      <th>Fare</th>\n",
       "      <th>Embarked</th>\n",
       "      <th>CabinCount</th>\n",
       "      <th>female</th>\n",
       "      <th>male</th>\n",
       "      <th>C</th>\n",
       "      <th>Q</th>\n",
       "      <th>S</th>\n",
       "    </tr>\n",
       "  </thead>\n",
       "  <tbody>\n",
       "    <tr>\n",
       "      <th>0</th>\n",
       "      <td>0</td>\n",
       "      <td>3</td>\n",
       "      <td>male</td>\n",
       "      <td>22.0</td>\n",
       "      <td>1</td>\n",
       "      <td>0</td>\n",
       "      <td>7.2500</td>\n",
       "      <td>S</td>\n",
       "      <td>0</td>\n",
       "      <td>0</td>\n",
       "      <td>1</td>\n",
       "      <td>0</td>\n",
       "      <td>0</td>\n",
       "      <td>1</td>\n",
       "    </tr>\n",
       "    <tr>\n",
       "      <th>1</th>\n",
       "      <td>1</td>\n",
       "      <td>1</td>\n",
       "      <td>female</td>\n",
       "      <td>38.0</td>\n",
       "      <td>1</td>\n",
       "      <td>0</td>\n",
       "      <td>71.2833</td>\n",
       "      <td>C</td>\n",
       "      <td>1</td>\n",
       "      <td>1</td>\n",
       "      <td>0</td>\n",
       "      <td>1</td>\n",
       "      <td>0</td>\n",
       "      <td>0</td>\n",
       "    </tr>\n",
       "    <tr>\n",
       "      <th>2</th>\n",
       "      <td>1</td>\n",
       "      <td>3</td>\n",
       "      <td>female</td>\n",
       "      <td>26.0</td>\n",
       "      <td>0</td>\n",
       "      <td>0</td>\n",
       "      <td>7.9250</td>\n",
       "      <td>S</td>\n",
       "      <td>0</td>\n",
       "      <td>1</td>\n",
       "      <td>0</td>\n",
       "      <td>0</td>\n",
       "      <td>0</td>\n",
       "      <td>1</td>\n",
       "    </tr>\n",
       "    <tr>\n",
       "      <th>3</th>\n",
       "      <td>1</td>\n",
       "      <td>1</td>\n",
       "      <td>female</td>\n",
       "      <td>35.0</td>\n",
       "      <td>1</td>\n",
       "      <td>0</td>\n",
       "      <td>53.1000</td>\n",
       "      <td>S</td>\n",
       "      <td>1</td>\n",
       "      <td>1</td>\n",
       "      <td>0</td>\n",
       "      <td>0</td>\n",
       "      <td>0</td>\n",
       "      <td>1</td>\n",
       "    </tr>\n",
       "    <tr>\n",
       "      <th>4</th>\n",
       "      <td>0</td>\n",
       "      <td>3</td>\n",
       "      <td>male</td>\n",
       "      <td>35.0</td>\n",
       "      <td>0</td>\n",
       "      <td>0</td>\n",
       "      <td>8.0500</td>\n",
       "      <td>S</td>\n",
       "      <td>0</td>\n",
       "      <td>0</td>\n",
       "      <td>1</td>\n",
       "      <td>0</td>\n",
       "      <td>0</td>\n",
       "      <td>1</td>\n",
       "    </tr>\n",
       "    <tr>\n",
       "      <th>...</th>\n",
       "      <td>...</td>\n",
       "      <td>...</td>\n",
       "      <td>...</td>\n",
       "      <td>...</td>\n",
       "      <td>...</td>\n",
       "      <td>...</td>\n",
       "      <td>...</td>\n",
       "      <td>...</td>\n",
       "      <td>...</td>\n",
       "      <td>...</td>\n",
       "      <td>...</td>\n",
       "      <td>...</td>\n",
       "      <td>...</td>\n",
       "      <td>...</td>\n",
       "    </tr>\n",
       "    <tr>\n",
       "      <th>886</th>\n",
       "      <td>0</td>\n",
       "      <td>2</td>\n",
       "      <td>male</td>\n",
       "      <td>27.0</td>\n",
       "      <td>0</td>\n",
       "      <td>0</td>\n",
       "      <td>13.0000</td>\n",
       "      <td>S</td>\n",
       "      <td>0</td>\n",
       "      <td>0</td>\n",
       "      <td>1</td>\n",
       "      <td>0</td>\n",
       "      <td>0</td>\n",
       "      <td>1</td>\n",
       "    </tr>\n",
       "    <tr>\n",
       "      <th>887</th>\n",
       "      <td>1</td>\n",
       "      <td>1</td>\n",
       "      <td>female</td>\n",
       "      <td>19.0</td>\n",
       "      <td>0</td>\n",
       "      <td>0</td>\n",
       "      <td>30.0000</td>\n",
       "      <td>S</td>\n",
       "      <td>1</td>\n",
       "      <td>1</td>\n",
       "      <td>0</td>\n",
       "      <td>0</td>\n",
       "      <td>0</td>\n",
       "      <td>1</td>\n",
       "    </tr>\n",
       "    <tr>\n",
       "      <th>888</th>\n",
       "      <td>0</td>\n",
       "      <td>3</td>\n",
       "      <td>female</td>\n",
       "      <td>28.0</td>\n",
       "      <td>1</td>\n",
       "      <td>2</td>\n",
       "      <td>23.4500</td>\n",
       "      <td>S</td>\n",
       "      <td>0</td>\n",
       "      <td>1</td>\n",
       "      <td>0</td>\n",
       "      <td>0</td>\n",
       "      <td>0</td>\n",
       "      <td>1</td>\n",
       "    </tr>\n",
       "    <tr>\n",
       "      <th>889</th>\n",
       "      <td>1</td>\n",
       "      <td>1</td>\n",
       "      <td>male</td>\n",
       "      <td>26.0</td>\n",
       "      <td>0</td>\n",
       "      <td>0</td>\n",
       "      <td>30.0000</td>\n",
       "      <td>C</td>\n",
       "      <td>1</td>\n",
       "      <td>0</td>\n",
       "      <td>1</td>\n",
       "      <td>1</td>\n",
       "      <td>0</td>\n",
       "      <td>0</td>\n",
       "    </tr>\n",
       "    <tr>\n",
       "      <th>890</th>\n",
       "      <td>0</td>\n",
       "      <td>3</td>\n",
       "      <td>male</td>\n",
       "      <td>32.0</td>\n",
       "      <td>0</td>\n",
       "      <td>0</td>\n",
       "      <td>7.7500</td>\n",
       "      <td>Q</td>\n",
       "      <td>0</td>\n",
       "      <td>0</td>\n",
       "      <td>1</td>\n",
       "      <td>0</td>\n",
       "      <td>1</td>\n",
       "      <td>0</td>\n",
       "    </tr>\n",
       "  </tbody>\n",
       "</table>\n",
       "<p>889 rows × 14 columns</p>\n",
       "</div>"
      ],
      "text/plain": [
       "     Survived  Pclass     Sex   Age  SibSp  Parch     Fare Embarked  \\\n",
       "0           0       3    male  22.0      1      0   7.2500        S   \n",
       "1           1       1  female  38.0      1      0  71.2833        C   \n",
       "2           1       3  female  26.0      0      0   7.9250        S   \n",
       "3           1       1  female  35.0      1      0  53.1000        S   \n",
       "4           0       3    male  35.0      0      0   8.0500        S   \n",
       "..        ...     ...     ...   ...    ...    ...      ...      ...   \n",
       "886         0       2    male  27.0      0      0  13.0000        S   \n",
       "887         1       1  female  19.0      0      0  30.0000        S   \n",
       "888         0       3  female  28.0      1      2  23.4500        S   \n",
       "889         1       1    male  26.0      0      0  30.0000        C   \n",
       "890         0       3    male  32.0      0      0   7.7500        Q   \n",
       "\n",
       "     CabinCount  female  male  C  Q  S  \n",
       "0             0       0     1  0  0  1  \n",
       "1             1       1     0  1  0  0  \n",
       "2             0       1     0  0  0  1  \n",
       "3             1       1     0  0  0  1  \n",
       "4             0       0     1  0  0  1  \n",
       "..          ...     ...   ... .. .. ..  \n",
       "886           0       0     1  0  0  1  \n",
       "887           1       1     0  0  0  1  \n",
       "888           0       1     0  0  0  1  \n",
       "889           1       0     1  1  0  0  \n",
       "890           0       0     1  0  1  0  \n",
       "\n",
       "[889 rows x 14 columns]"
      ]
     },
     "execution_count": 22,
     "metadata": {},
     "output_type": "execute_result"
    }
   ],
   "source": [
    "dummiesSex=pd.get_dummies(train_data.Sex)\n",
    "dummiesEmbarked=pd.get_dummies(train_data.Embarked)\n",
    "mergedTrain=pd.concat([train_data,dummiesSex,dummiesEmbarked],axis='columns')\n",
    "mergedTrain"
   ]
  },
  {
   "cell_type": "code",
   "execution_count": 23,
   "id": "005c32ab",
   "metadata": {
    "execution": {
     "iopub.execute_input": "2021-07-24T07:07:24.021358Z",
     "iopub.status.busy": "2021-07-24T07:07:24.020301Z",
     "iopub.status.idle": "2021-07-24T07:07:24.049457Z",
     "shell.execute_reply": "2021-07-24T07:07:24.049987Z",
     "shell.execute_reply.started": "2021-07-24T07:04:05.966807Z"
    },
    "papermill": {
     "duration": 0.080722,
     "end_time": "2021-07-24T07:07:24.050173",
     "exception": false,
     "start_time": "2021-07-24T07:07:23.969451",
     "status": "completed"
    },
    "tags": []
   },
   "outputs": [
    {
     "data": {
      "text/html": [
       "<div>\n",
       "<style scoped>\n",
       "    .dataframe tbody tr th:only-of-type {\n",
       "        vertical-align: middle;\n",
       "    }\n",
       "\n",
       "    .dataframe tbody tr th {\n",
       "        vertical-align: top;\n",
       "    }\n",
       "\n",
       "    .dataframe thead th {\n",
       "        text-align: right;\n",
       "    }\n",
       "</style>\n",
       "<table border=\"1\" class=\"dataframe\">\n",
       "  <thead>\n",
       "    <tr style=\"text-align: right;\">\n",
       "      <th></th>\n",
       "      <th>Pclass</th>\n",
       "      <th>Sex</th>\n",
       "      <th>Age</th>\n",
       "      <th>SibSp</th>\n",
       "      <th>Parch</th>\n",
       "      <th>Fare</th>\n",
       "      <th>Embarked</th>\n",
       "      <th>CabinCount</th>\n",
       "      <th>female</th>\n",
       "      <th>male</th>\n",
       "      <th>C</th>\n",
       "      <th>Q</th>\n",
       "      <th>S</th>\n",
       "    </tr>\n",
       "  </thead>\n",
       "  <tbody>\n",
       "    <tr>\n",
       "      <th>0</th>\n",
       "      <td>3</td>\n",
       "      <td>male</td>\n",
       "      <td>34.5</td>\n",
       "      <td>0</td>\n",
       "      <td>0</td>\n",
       "      <td>7.8292</td>\n",
       "      <td>Q</td>\n",
       "      <td>0</td>\n",
       "      <td>0</td>\n",
       "      <td>1</td>\n",
       "      <td>0</td>\n",
       "      <td>1</td>\n",
       "      <td>0</td>\n",
       "    </tr>\n",
       "    <tr>\n",
       "      <th>1</th>\n",
       "      <td>3</td>\n",
       "      <td>female</td>\n",
       "      <td>47.0</td>\n",
       "      <td>1</td>\n",
       "      <td>0</td>\n",
       "      <td>7.0000</td>\n",
       "      <td>S</td>\n",
       "      <td>0</td>\n",
       "      <td>1</td>\n",
       "      <td>0</td>\n",
       "      <td>0</td>\n",
       "      <td>0</td>\n",
       "      <td>1</td>\n",
       "    </tr>\n",
       "    <tr>\n",
       "      <th>2</th>\n",
       "      <td>2</td>\n",
       "      <td>male</td>\n",
       "      <td>62.0</td>\n",
       "      <td>0</td>\n",
       "      <td>0</td>\n",
       "      <td>9.6875</td>\n",
       "      <td>Q</td>\n",
       "      <td>0</td>\n",
       "      <td>0</td>\n",
       "      <td>1</td>\n",
       "      <td>0</td>\n",
       "      <td>1</td>\n",
       "      <td>0</td>\n",
       "    </tr>\n",
       "    <tr>\n",
       "      <th>3</th>\n",
       "      <td>3</td>\n",
       "      <td>male</td>\n",
       "      <td>27.0</td>\n",
       "      <td>0</td>\n",
       "      <td>0</td>\n",
       "      <td>8.6625</td>\n",
       "      <td>S</td>\n",
       "      <td>0</td>\n",
       "      <td>0</td>\n",
       "      <td>1</td>\n",
       "      <td>0</td>\n",
       "      <td>0</td>\n",
       "      <td>1</td>\n",
       "    </tr>\n",
       "    <tr>\n",
       "      <th>4</th>\n",
       "      <td>3</td>\n",
       "      <td>female</td>\n",
       "      <td>22.0</td>\n",
       "      <td>1</td>\n",
       "      <td>1</td>\n",
       "      <td>12.2875</td>\n",
       "      <td>S</td>\n",
       "      <td>0</td>\n",
       "      <td>1</td>\n",
       "      <td>0</td>\n",
       "      <td>0</td>\n",
       "      <td>0</td>\n",
       "      <td>1</td>\n",
       "    </tr>\n",
       "    <tr>\n",
       "      <th>...</th>\n",
       "      <td>...</td>\n",
       "      <td>...</td>\n",
       "      <td>...</td>\n",
       "      <td>...</td>\n",
       "      <td>...</td>\n",
       "      <td>...</td>\n",
       "      <td>...</td>\n",
       "      <td>...</td>\n",
       "      <td>...</td>\n",
       "      <td>...</td>\n",
       "      <td>...</td>\n",
       "      <td>...</td>\n",
       "      <td>...</td>\n",
       "    </tr>\n",
       "    <tr>\n",
       "      <th>413</th>\n",
       "      <td>3</td>\n",
       "      <td>male</td>\n",
       "      <td>27.0</td>\n",
       "      <td>0</td>\n",
       "      <td>0</td>\n",
       "      <td>8.0500</td>\n",
       "      <td>S</td>\n",
       "      <td>0</td>\n",
       "      <td>0</td>\n",
       "      <td>1</td>\n",
       "      <td>0</td>\n",
       "      <td>0</td>\n",
       "      <td>1</td>\n",
       "    </tr>\n",
       "    <tr>\n",
       "      <th>414</th>\n",
       "      <td>1</td>\n",
       "      <td>female</td>\n",
       "      <td>39.0</td>\n",
       "      <td>0</td>\n",
       "      <td>0</td>\n",
       "      <td>108.9000</td>\n",
       "      <td>C</td>\n",
       "      <td>1</td>\n",
       "      <td>1</td>\n",
       "      <td>0</td>\n",
       "      <td>1</td>\n",
       "      <td>0</td>\n",
       "      <td>0</td>\n",
       "    </tr>\n",
       "    <tr>\n",
       "      <th>415</th>\n",
       "      <td>3</td>\n",
       "      <td>male</td>\n",
       "      <td>38.5</td>\n",
       "      <td>0</td>\n",
       "      <td>0</td>\n",
       "      <td>7.2500</td>\n",
       "      <td>S</td>\n",
       "      <td>0</td>\n",
       "      <td>0</td>\n",
       "      <td>1</td>\n",
       "      <td>0</td>\n",
       "      <td>0</td>\n",
       "      <td>1</td>\n",
       "    </tr>\n",
       "    <tr>\n",
       "      <th>416</th>\n",
       "      <td>3</td>\n",
       "      <td>male</td>\n",
       "      <td>27.0</td>\n",
       "      <td>0</td>\n",
       "      <td>0</td>\n",
       "      <td>8.0500</td>\n",
       "      <td>S</td>\n",
       "      <td>0</td>\n",
       "      <td>0</td>\n",
       "      <td>1</td>\n",
       "      <td>0</td>\n",
       "      <td>0</td>\n",
       "      <td>1</td>\n",
       "    </tr>\n",
       "    <tr>\n",
       "      <th>417</th>\n",
       "      <td>3</td>\n",
       "      <td>male</td>\n",
       "      <td>27.0</td>\n",
       "      <td>1</td>\n",
       "      <td>1</td>\n",
       "      <td>22.3583</td>\n",
       "      <td>C</td>\n",
       "      <td>0</td>\n",
       "      <td>0</td>\n",
       "      <td>1</td>\n",
       "      <td>1</td>\n",
       "      <td>0</td>\n",
       "      <td>0</td>\n",
       "    </tr>\n",
       "  </tbody>\n",
       "</table>\n",
       "<p>418 rows × 13 columns</p>\n",
       "</div>"
      ],
      "text/plain": [
       "     Pclass     Sex   Age  SibSp  Parch      Fare Embarked  CabinCount  \\\n",
       "0         3    male  34.5      0      0    7.8292        Q           0   \n",
       "1         3  female  47.0      1      0    7.0000        S           0   \n",
       "2         2    male  62.0      0      0    9.6875        Q           0   \n",
       "3         3    male  27.0      0      0    8.6625        S           0   \n",
       "4         3  female  22.0      1      1   12.2875        S           0   \n",
       "..      ...     ...   ...    ...    ...       ...      ...         ...   \n",
       "413       3    male  27.0      0      0    8.0500        S           0   \n",
       "414       1  female  39.0      0      0  108.9000        C           1   \n",
       "415       3    male  38.5      0      0    7.2500        S           0   \n",
       "416       3    male  27.0      0      0    8.0500        S           0   \n",
       "417       3    male  27.0      1      1   22.3583        C           0   \n",
       "\n",
       "     female  male  C  Q  S  \n",
       "0         0     1  0  1  0  \n",
       "1         1     0  0  0  1  \n",
       "2         0     1  0  1  0  \n",
       "3         0     1  0  0  1  \n",
       "4         1     0  0  0  1  \n",
       "..      ...   ... .. .. ..  \n",
       "413       0     1  0  0  1  \n",
       "414       1     0  1  0  0  \n",
       "415       0     1  0  0  1  \n",
       "416       0     1  0  0  1  \n",
       "417       0     1  1  0  0  \n",
       "\n",
       "[418 rows x 13 columns]"
      ]
     },
     "execution_count": 23,
     "metadata": {},
     "output_type": "execute_result"
    }
   ],
   "source": [
    "dummiesSex=pd.get_dummies(test_data.Sex)\n",
    "dummiesEmbarked=pd.get_dummies(test_data.Embarked)\n",
    "mergedTest=pd.concat([test_data,dummiesSex,dummiesEmbarked],axis='columns')\n",
    "mergedTest"
   ]
  },
  {
   "cell_type": "code",
   "execution_count": 24,
   "id": "e678921d",
   "metadata": {
    "execution": {
     "iopub.execute_input": "2021-07-24T07:07:24.147744Z",
     "iopub.status.busy": "2021-07-24T07:07:24.146740Z",
     "iopub.status.idle": "2021-07-24T07:07:24.171197Z",
     "shell.execute_reply": "2021-07-24T07:07:24.170618Z",
     "shell.execute_reply.started": "2021-07-24T07:04:06.011006Z"
    },
    "papermill": {
     "duration": 0.072345,
     "end_time": "2021-07-24T07:07:24.171356",
     "exception": false,
     "start_time": "2021-07-24T07:07:24.099011",
     "status": "completed"
    },
    "tags": []
   },
   "outputs": [
    {
     "data": {
      "text/html": [
       "<div>\n",
       "<style scoped>\n",
       "    .dataframe tbody tr th:only-of-type {\n",
       "        vertical-align: middle;\n",
       "    }\n",
       "\n",
       "    .dataframe tbody tr th {\n",
       "        vertical-align: top;\n",
       "    }\n",
       "\n",
       "    .dataframe thead th {\n",
       "        text-align: right;\n",
       "    }\n",
       "</style>\n",
       "<table border=\"1\" class=\"dataframe\">\n",
       "  <thead>\n",
       "    <tr style=\"text-align: right;\">\n",
       "      <th></th>\n",
       "      <th>Survived</th>\n",
       "      <th>Pclass</th>\n",
       "      <th>Age</th>\n",
       "      <th>SibSp</th>\n",
       "      <th>Parch</th>\n",
       "      <th>Fare</th>\n",
       "      <th>CabinCount</th>\n",
       "      <th>female</th>\n",
       "      <th>Q</th>\n",
       "      <th>S</th>\n",
       "    </tr>\n",
       "  </thead>\n",
       "  <tbody>\n",
       "    <tr>\n",
       "      <th>0</th>\n",
       "      <td>0</td>\n",
       "      <td>3</td>\n",
       "      <td>22.0</td>\n",
       "      <td>1</td>\n",
       "      <td>0</td>\n",
       "      <td>7.2500</td>\n",
       "      <td>0</td>\n",
       "      <td>0</td>\n",
       "      <td>0</td>\n",
       "      <td>1</td>\n",
       "    </tr>\n",
       "    <tr>\n",
       "      <th>1</th>\n",
       "      <td>1</td>\n",
       "      <td>1</td>\n",
       "      <td>38.0</td>\n",
       "      <td>1</td>\n",
       "      <td>0</td>\n",
       "      <td>71.2833</td>\n",
       "      <td>1</td>\n",
       "      <td>1</td>\n",
       "      <td>0</td>\n",
       "      <td>0</td>\n",
       "    </tr>\n",
       "    <tr>\n",
       "      <th>2</th>\n",
       "      <td>1</td>\n",
       "      <td>3</td>\n",
       "      <td>26.0</td>\n",
       "      <td>0</td>\n",
       "      <td>0</td>\n",
       "      <td>7.9250</td>\n",
       "      <td>0</td>\n",
       "      <td>1</td>\n",
       "      <td>0</td>\n",
       "      <td>1</td>\n",
       "    </tr>\n",
       "    <tr>\n",
       "      <th>3</th>\n",
       "      <td>1</td>\n",
       "      <td>1</td>\n",
       "      <td>35.0</td>\n",
       "      <td>1</td>\n",
       "      <td>0</td>\n",
       "      <td>53.1000</td>\n",
       "      <td>1</td>\n",
       "      <td>1</td>\n",
       "      <td>0</td>\n",
       "      <td>1</td>\n",
       "    </tr>\n",
       "    <tr>\n",
       "      <th>4</th>\n",
       "      <td>0</td>\n",
       "      <td>3</td>\n",
       "      <td>35.0</td>\n",
       "      <td>0</td>\n",
       "      <td>0</td>\n",
       "      <td>8.0500</td>\n",
       "      <td>0</td>\n",
       "      <td>0</td>\n",
       "      <td>0</td>\n",
       "      <td>1</td>\n",
       "    </tr>\n",
       "    <tr>\n",
       "      <th>...</th>\n",
       "      <td>...</td>\n",
       "      <td>...</td>\n",
       "      <td>...</td>\n",
       "      <td>...</td>\n",
       "      <td>...</td>\n",
       "      <td>...</td>\n",
       "      <td>...</td>\n",
       "      <td>...</td>\n",
       "      <td>...</td>\n",
       "      <td>...</td>\n",
       "    </tr>\n",
       "    <tr>\n",
       "      <th>886</th>\n",
       "      <td>0</td>\n",
       "      <td>2</td>\n",
       "      <td>27.0</td>\n",
       "      <td>0</td>\n",
       "      <td>0</td>\n",
       "      <td>13.0000</td>\n",
       "      <td>0</td>\n",
       "      <td>0</td>\n",
       "      <td>0</td>\n",
       "      <td>1</td>\n",
       "    </tr>\n",
       "    <tr>\n",
       "      <th>887</th>\n",
       "      <td>1</td>\n",
       "      <td>1</td>\n",
       "      <td>19.0</td>\n",
       "      <td>0</td>\n",
       "      <td>0</td>\n",
       "      <td>30.0000</td>\n",
       "      <td>1</td>\n",
       "      <td>1</td>\n",
       "      <td>0</td>\n",
       "      <td>1</td>\n",
       "    </tr>\n",
       "    <tr>\n",
       "      <th>888</th>\n",
       "      <td>0</td>\n",
       "      <td>3</td>\n",
       "      <td>28.0</td>\n",
       "      <td>1</td>\n",
       "      <td>2</td>\n",
       "      <td>23.4500</td>\n",
       "      <td>0</td>\n",
       "      <td>1</td>\n",
       "      <td>0</td>\n",
       "      <td>1</td>\n",
       "    </tr>\n",
       "    <tr>\n",
       "      <th>889</th>\n",
       "      <td>1</td>\n",
       "      <td>1</td>\n",
       "      <td>26.0</td>\n",
       "      <td>0</td>\n",
       "      <td>0</td>\n",
       "      <td>30.0000</td>\n",
       "      <td>1</td>\n",
       "      <td>0</td>\n",
       "      <td>0</td>\n",
       "      <td>0</td>\n",
       "    </tr>\n",
       "    <tr>\n",
       "      <th>890</th>\n",
       "      <td>0</td>\n",
       "      <td>3</td>\n",
       "      <td>32.0</td>\n",
       "      <td>0</td>\n",
       "      <td>0</td>\n",
       "      <td>7.7500</td>\n",
       "      <td>0</td>\n",
       "      <td>0</td>\n",
       "      <td>1</td>\n",
       "      <td>0</td>\n",
       "    </tr>\n",
       "  </tbody>\n",
       "</table>\n",
       "<p>889 rows × 10 columns</p>\n",
       "</div>"
      ],
      "text/plain": [
       "     Survived  Pclass   Age  SibSp  Parch     Fare  CabinCount  female  Q  S\n",
       "0           0       3  22.0      1      0   7.2500           0       0  0  1\n",
       "1           1       1  38.0      1      0  71.2833           1       1  0  0\n",
       "2           1       3  26.0      0      0   7.9250           0       1  0  1\n",
       "3           1       1  35.0      1      0  53.1000           1       1  0  1\n",
       "4           0       3  35.0      0      0   8.0500           0       0  0  1\n",
       "..        ...     ...   ...    ...    ...      ...         ...     ... .. ..\n",
       "886         0       2  27.0      0      0  13.0000           0       0  0  1\n",
       "887         1       1  19.0      0      0  30.0000           1       1  0  1\n",
       "888         0       3  28.0      1      2  23.4500           0       1  0  1\n",
       "889         1       1  26.0      0      0  30.0000           1       0  0  0\n",
       "890         0       3  32.0      0      0   7.7500           0       0  1  0\n",
       "\n",
       "[889 rows x 10 columns]"
      ]
     },
     "execution_count": 24,
     "metadata": {},
     "output_type": "execute_result"
    }
   ],
   "source": [
    "finalTrain=mergedTrain.drop(['Sex','Embarked','male','C'],axis='columns')\n",
    "finalTrain"
   ]
  },
  {
   "cell_type": "code",
   "execution_count": 25,
   "id": "62b755c8",
   "metadata": {
    "execution": {
     "iopub.execute_input": "2021-07-24T07:07:24.272829Z",
     "iopub.status.busy": "2021-07-24T07:07:24.272146Z",
     "iopub.status.idle": "2021-07-24T07:07:24.291904Z",
     "shell.execute_reply": "2021-07-24T07:07:24.292396Z",
     "shell.execute_reply.started": "2021-07-24T07:04:06.044353Z"
    },
    "papermill": {
     "duration": 0.070958,
     "end_time": "2021-07-24T07:07:24.292562",
     "exception": false,
     "start_time": "2021-07-24T07:07:24.221604",
     "status": "completed"
    },
    "tags": []
   },
   "outputs": [
    {
     "data": {
      "text/html": [
       "<div>\n",
       "<style scoped>\n",
       "    .dataframe tbody tr th:only-of-type {\n",
       "        vertical-align: middle;\n",
       "    }\n",
       "\n",
       "    .dataframe tbody tr th {\n",
       "        vertical-align: top;\n",
       "    }\n",
       "\n",
       "    .dataframe thead th {\n",
       "        text-align: right;\n",
       "    }\n",
       "</style>\n",
       "<table border=\"1\" class=\"dataframe\">\n",
       "  <thead>\n",
       "    <tr style=\"text-align: right;\">\n",
       "      <th></th>\n",
       "      <th>Pclass</th>\n",
       "      <th>Age</th>\n",
       "      <th>SibSp</th>\n",
       "      <th>Parch</th>\n",
       "      <th>Fare</th>\n",
       "      <th>CabinCount</th>\n",
       "      <th>female</th>\n",
       "      <th>Q</th>\n",
       "      <th>S</th>\n",
       "    </tr>\n",
       "  </thead>\n",
       "  <tbody>\n",
       "    <tr>\n",
       "      <th>0</th>\n",
       "      <td>3</td>\n",
       "      <td>34.5</td>\n",
       "      <td>0</td>\n",
       "      <td>0</td>\n",
       "      <td>7.8292</td>\n",
       "      <td>0</td>\n",
       "      <td>0</td>\n",
       "      <td>1</td>\n",
       "      <td>0</td>\n",
       "    </tr>\n",
       "    <tr>\n",
       "      <th>1</th>\n",
       "      <td>3</td>\n",
       "      <td>47.0</td>\n",
       "      <td>1</td>\n",
       "      <td>0</td>\n",
       "      <td>7.0000</td>\n",
       "      <td>0</td>\n",
       "      <td>1</td>\n",
       "      <td>0</td>\n",
       "      <td>1</td>\n",
       "    </tr>\n",
       "    <tr>\n",
       "      <th>2</th>\n",
       "      <td>2</td>\n",
       "      <td>62.0</td>\n",
       "      <td>0</td>\n",
       "      <td>0</td>\n",
       "      <td>9.6875</td>\n",
       "      <td>0</td>\n",
       "      <td>0</td>\n",
       "      <td>1</td>\n",
       "      <td>0</td>\n",
       "    </tr>\n",
       "    <tr>\n",
       "      <th>3</th>\n",
       "      <td>3</td>\n",
       "      <td>27.0</td>\n",
       "      <td>0</td>\n",
       "      <td>0</td>\n",
       "      <td>8.6625</td>\n",
       "      <td>0</td>\n",
       "      <td>0</td>\n",
       "      <td>0</td>\n",
       "      <td>1</td>\n",
       "    </tr>\n",
       "    <tr>\n",
       "      <th>4</th>\n",
       "      <td>3</td>\n",
       "      <td>22.0</td>\n",
       "      <td>1</td>\n",
       "      <td>1</td>\n",
       "      <td>12.2875</td>\n",
       "      <td>0</td>\n",
       "      <td>1</td>\n",
       "      <td>0</td>\n",
       "      <td>1</td>\n",
       "    </tr>\n",
       "    <tr>\n",
       "      <th>...</th>\n",
       "      <td>...</td>\n",
       "      <td>...</td>\n",
       "      <td>...</td>\n",
       "      <td>...</td>\n",
       "      <td>...</td>\n",
       "      <td>...</td>\n",
       "      <td>...</td>\n",
       "      <td>...</td>\n",
       "      <td>...</td>\n",
       "    </tr>\n",
       "    <tr>\n",
       "      <th>413</th>\n",
       "      <td>3</td>\n",
       "      <td>27.0</td>\n",
       "      <td>0</td>\n",
       "      <td>0</td>\n",
       "      <td>8.0500</td>\n",
       "      <td>0</td>\n",
       "      <td>0</td>\n",
       "      <td>0</td>\n",
       "      <td>1</td>\n",
       "    </tr>\n",
       "    <tr>\n",
       "      <th>414</th>\n",
       "      <td>1</td>\n",
       "      <td>39.0</td>\n",
       "      <td>0</td>\n",
       "      <td>0</td>\n",
       "      <td>108.9000</td>\n",
       "      <td>1</td>\n",
       "      <td>1</td>\n",
       "      <td>0</td>\n",
       "      <td>0</td>\n",
       "    </tr>\n",
       "    <tr>\n",
       "      <th>415</th>\n",
       "      <td>3</td>\n",
       "      <td>38.5</td>\n",
       "      <td>0</td>\n",
       "      <td>0</td>\n",
       "      <td>7.2500</td>\n",
       "      <td>0</td>\n",
       "      <td>0</td>\n",
       "      <td>0</td>\n",
       "      <td>1</td>\n",
       "    </tr>\n",
       "    <tr>\n",
       "      <th>416</th>\n",
       "      <td>3</td>\n",
       "      <td>27.0</td>\n",
       "      <td>0</td>\n",
       "      <td>0</td>\n",
       "      <td>8.0500</td>\n",
       "      <td>0</td>\n",
       "      <td>0</td>\n",
       "      <td>0</td>\n",
       "      <td>1</td>\n",
       "    </tr>\n",
       "    <tr>\n",
       "      <th>417</th>\n",
       "      <td>3</td>\n",
       "      <td>27.0</td>\n",
       "      <td>1</td>\n",
       "      <td>1</td>\n",
       "      <td>22.3583</td>\n",
       "      <td>0</td>\n",
       "      <td>0</td>\n",
       "      <td>0</td>\n",
       "      <td>0</td>\n",
       "    </tr>\n",
       "  </tbody>\n",
       "</table>\n",
       "<p>418 rows × 9 columns</p>\n",
       "</div>"
      ],
      "text/plain": [
       "     Pclass   Age  SibSp  Parch      Fare  CabinCount  female  Q  S\n",
       "0         3  34.5      0      0    7.8292           0       0  1  0\n",
       "1         3  47.0      1      0    7.0000           0       1  0  1\n",
       "2         2  62.0      0      0    9.6875           0       0  1  0\n",
       "3         3  27.0      0      0    8.6625           0       0  0  1\n",
       "4         3  22.0      1      1   12.2875           0       1  0  1\n",
       "..      ...   ...    ...    ...       ...         ...     ... .. ..\n",
       "413       3  27.0      0      0    8.0500           0       0  0  1\n",
       "414       1  39.0      0      0  108.9000           1       1  0  0\n",
       "415       3  38.5      0      0    7.2500           0       0  0  1\n",
       "416       3  27.0      0      0    8.0500           0       0  0  1\n",
       "417       3  27.0      1      1   22.3583           0       0  0  0\n",
       "\n",
       "[418 rows x 9 columns]"
      ]
     },
     "execution_count": 25,
     "metadata": {},
     "output_type": "execute_result"
    }
   ],
   "source": [
    "finalTest=mergedTest.drop(['Sex','Embarked','male','C'],axis='columns')\n",
    "finalTest"
   ]
  },
  {
   "cell_type": "code",
   "execution_count": null,
   "id": "9b00664e",
   "metadata": {
    "papermill": {
     "duration": 0.046098,
     "end_time": "2021-07-24T07:07:24.384659",
     "exception": false,
     "start_time": "2021-07-24T07:07:24.338561",
     "status": "completed"
    },
    "tags": []
   },
   "outputs": [],
   "source": []
  },
  {
   "cell_type": "code",
   "execution_count": 26,
   "id": "0bad4173",
   "metadata": {
    "execution": {
     "iopub.execute_input": "2021-07-24T07:07:24.480470Z",
     "iopub.status.busy": "2021-07-24T07:07:24.479805Z",
     "iopub.status.idle": "2021-07-24T07:07:24.494044Z",
     "shell.execute_reply": "2021-07-24T07:07:24.493325Z",
     "shell.execute_reply.started": "2021-07-24T07:04:06.073818Z"
    },
    "papermill": {
     "duration": 0.063772,
     "end_time": "2021-07-24T07:07:24.494189",
     "exception": false,
     "start_time": "2021-07-24T07:07:24.430417",
     "status": "completed"
    },
    "tags": []
   },
   "outputs": [
    {
     "name": "stdout",
     "output_type": "stream",
     "text": [
      "<class 'pandas.core.frame.DataFrame'>\n",
      "Int64Index: 418 entries, 0 to 417\n",
      "Data columns (total 8 columns):\n",
      " #   Column      Non-Null Count  Dtype  \n",
      "---  ------      --------------  -----  \n",
      " 0   Pclass      418 non-null    int64  \n",
      " 1   Sex         418 non-null    object \n",
      " 2   Age         418 non-null    float64\n",
      " 3   SibSp       418 non-null    int64  \n",
      " 4   Parch       418 non-null    int64  \n",
      " 5   Fare        417 non-null    float64\n",
      " 6   Embarked    418 non-null    object \n",
      " 7   CabinCount  418 non-null    int64  \n",
      "dtypes: float64(2), int64(4), object(2)\n",
      "memory usage: 29.4+ KB\n"
     ]
    }
   ],
   "source": [
    "test_data.info()"
   ]
  },
  {
   "cell_type": "code",
   "execution_count": 27,
   "id": "d2d23aab",
   "metadata": {
    "execution": {
     "iopub.execute_input": "2021-07-24T07:07:24.597091Z",
     "iopub.status.busy": "2021-07-24T07:07:24.596452Z",
     "iopub.status.idle": "2021-07-24T07:07:24.598924Z",
     "shell.execute_reply": "2021-07-24T07:07:24.598297Z",
     "shell.execute_reply.started": "2021-07-24T07:04:06.097002Z"
    },
    "papermill": {
     "duration": 0.053824,
     "end_time": "2021-07-24T07:07:24.599059",
     "exception": false,
     "start_time": "2021-07-24T07:07:24.545235",
     "status": "completed"
    },
    "tags": []
   },
   "outputs": [],
   "source": [
    "test_data['Fare']=test_data['Fare'].fillna(test_data['Fare'].median())"
   ]
  },
  {
   "cell_type": "code",
   "execution_count": 28,
   "id": "bc3033da",
   "metadata": {
    "execution": {
     "iopub.execute_input": "2021-07-24T07:07:24.700063Z",
     "iopub.status.busy": "2021-07-24T07:07:24.699418Z",
     "iopub.status.idle": "2021-07-24T07:07:24.710375Z",
     "shell.execute_reply": "2021-07-24T07:07:24.710872Z",
     "shell.execute_reply.started": "2021-07-24T07:04:06.112628Z"
    },
    "papermill": {
     "duration": 0.065418,
     "end_time": "2021-07-24T07:07:24.711036",
     "exception": false,
     "start_time": "2021-07-24T07:07:24.645618",
     "status": "completed"
    },
    "tags": []
   },
   "outputs": [
    {
     "name": "stdout",
     "output_type": "stream",
     "text": [
      "<class 'pandas.core.frame.DataFrame'>\n",
      "Int64Index: 418 entries, 0 to 417\n",
      "Data columns (total 8 columns):\n",
      " #   Column      Non-Null Count  Dtype  \n",
      "---  ------      --------------  -----  \n",
      " 0   Pclass      418 non-null    int64  \n",
      " 1   Sex         418 non-null    object \n",
      " 2   Age         418 non-null    float64\n",
      " 3   SibSp       418 non-null    int64  \n",
      " 4   Parch       418 non-null    int64  \n",
      " 5   Fare        418 non-null    float64\n",
      " 6   Embarked    418 non-null    object \n",
      " 7   CabinCount  418 non-null    int64  \n",
      "dtypes: float64(2), int64(4), object(2)\n",
      "memory usage: 29.4+ KB\n"
     ]
    }
   ],
   "source": [
    "test_data.info()"
   ]
  },
  {
   "cell_type": "code",
   "execution_count": 29,
   "id": "c4e8c1a7",
   "metadata": {
    "execution": {
     "iopub.execute_input": "2021-07-24T07:07:24.820508Z",
     "iopub.status.busy": "2021-07-24T07:07:24.819814Z",
     "iopub.status.idle": "2021-07-24T07:07:24.824189Z",
     "shell.execute_reply": "2021-07-24T07:07:24.823571Z",
     "shell.execute_reply.started": "2021-07-24T07:04:06.137676Z"
    },
    "papermill": {
     "duration": 0.066378,
     "end_time": "2021-07-24T07:07:24.824345",
     "exception": false,
     "start_time": "2021-07-24T07:07:24.757967",
     "status": "completed"
    },
    "tags": []
   },
   "outputs": [
    {
     "name": "stdout",
     "output_type": "stream",
     "text": [
      "<class 'pandas.core.frame.DataFrame'>\n",
      "Int64Index: 418 entries, 0 to 417\n",
      "Data columns (total 9 columns):\n",
      " #   Column      Non-Null Count  Dtype  \n",
      "---  ------      --------------  -----  \n",
      " 0   Pclass      418 non-null    int64  \n",
      " 1   Age         418 non-null    float64\n",
      " 2   SibSp       418 non-null    int64  \n",
      " 3   Parch       418 non-null    int64  \n",
      " 4   Fare        417 non-null    float64\n",
      " 5   CabinCount  418 non-null    int64  \n",
      " 6   female      418 non-null    uint8  \n",
      " 7   Q           418 non-null    uint8  \n",
      " 8   S           418 non-null    uint8  \n",
      "dtypes: float64(2), int64(4), uint8(3)\n",
      "memory usage: 24.1 KB\n"
     ]
    }
   ],
   "source": [
    "finalTest.info()\n",
    "finalTest['Fare']=finalTest['Fare'].fillna(finalTest['Fare'].median())"
   ]
  },
  {
   "cell_type": "code",
   "execution_count": 30,
   "id": "b2fa82cf",
   "metadata": {
    "execution": {
     "iopub.execute_input": "2021-07-24T07:07:24.934936Z",
     "iopub.status.busy": "2021-07-24T07:07:24.934215Z",
     "iopub.status.idle": "2021-07-24T07:07:24.937344Z",
     "shell.execute_reply": "2021-07-24T07:07:24.937877Z",
     "shell.execute_reply.started": "2021-07-24T07:04:06.166284Z"
    },
    "papermill": {
     "duration": 0.065364,
     "end_time": "2021-07-24T07:07:24.938051",
     "exception": false,
     "start_time": "2021-07-24T07:07:24.872687",
     "status": "completed"
    },
    "tags": []
   },
   "outputs": [
    {
     "name": "stdout",
     "output_type": "stream",
     "text": [
      "<class 'pandas.core.frame.DataFrame'>\n",
      "Int64Index: 418 entries, 0 to 417\n",
      "Data columns (total 9 columns):\n",
      " #   Column      Non-Null Count  Dtype  \n",
      "---  ------      --------------  -----  \n",
      " 0   Pclass      418 non-null    int64  \n",
      " 1   Age         418 non-null    float64\n",
      " 2   SibSp       418 non-null    int64  \n",
      " 3   Parch       418 non-null    int64  \n",
      " 4   Fare        418 non-null    float64\n",
      " 5   CabinCount  418 non-null    int64  \n",
      " 6   female      418 non-null    uint8  \n",
      " 7   Q           418 non-null    uint8  \n",
      " 8   S           418 non-null    uint8  \n",
      "dtypes: float64(2), int64(4), uint8(3)\n",
      "memory usage: 24.1 KB\n"
     ]
    }
   ],
   "source": [
    "finalTest.info()"
   ]
  },
  {
   "cell_type": "code",
   "execution_count": 31,
   "id": "af1d1e6f",
   "metadata": {
    "execution": {
     "iopub.execute_input": "2021-07-24T07:07:25.043170Z",
     "iopub.status.busy": "2021-07-24T07:07:25.042566Z",
     "iopub.status.idle": "2021-07-24T07:07:25.047389Z",
     "shell.execute_reply": "2021-07-24T07:07:25.047833Z",
     "shell.execute_reply.started": "2021-07-24T07:04:06.185966Z"
    },
    "papermill": {
     "duration": 0.057187,
     "end_time": "2021-07-24T07:07:25.047994",
     "exception": false,
     "start_time": "2021-07-24T07:07:24.990807",
     "status": "completed"
    },
    "tags": []
   },
   "outputs": [],
   "source": [
    "train_dataX = finalTrain.iloc[:,1:].values\n",
    "train_dataY = finalTrain.iloc[:,0].values"
   ]
  },
  {
   "cell_type": "code",
   "execution_count": 32,
   "id": "7fc8b901",
   "metadata": {
    "execution": {
     "iopub.execute_input": "2021-07-24T07:07:25.147247Z",
     "iopub.status.busy": "2021-07-24T07:07:25.146624Z",
     "iopub.status.idle": "2021-07-24T07:07:25.151621Z",
     "shell.execute_reply": "2021-07-24T07:07:25.152114Z",
     "shell.execute_reply.started": "2021-07-24T07:04:06.201677Z"
    },
    "papermill": {
     "duration": 0.055742,
     "end_time": "2021-07-24T07:07:25.152274",
     "exception": false,
     "start_time": "2021-07-24T07:07:25.096532",
     "status": "completed"
    },
    "tags": []
   },
   "outputs": [
    {
     "name": "stdout",
     "output_type": "stream",
     "text": [
      "(889, 9)\n",
      "(889,)\n",
      "(418, 9)\n"
     ]
    }
   ],
   "source": [
    "print(train_dataX.shape)\n",
    "print(train_dataY.shape)\n",
    "print(finalTest.shape)"
   ]
  },
  {
   "cell_type": "code",
   "execution_count": 33,
   "id": "e9ba4c29",
   "metadata": {
    "execution": {
     "iopub.execute_input": "2021-07-24T07:07:25.253949Z",
     "iopub.status.busy": "2021-07-24T07:07:25.252955Z",
     "iopub.status.idle": "2021-07-24T07:07:25.383788Z",
     "shell.execute_reply": "2021-07-24T07:07:25.383074Z",
     "shell.execute_reply.started": "2021-07-24T07:04:06.216945Z"
    },
    "papermill": {
     "duration": 0.182978,
     "end_time": "2021-07-24T07:07:25.383932",
     "exception": false,
     "start_time": "2021-07-24T07:07:25.200954",
     "status": "completed"
    },
    "tags": []
   },
   "outputs": [],
   "source": [
    "from sklearn.preprocessing import StandardScaler\n",
    "sc = StandardScaler()\n",
    "train_dataX= sc.fit_transform(train_dataX)\n",
    "finalTest= sc.transform(finalTest)"
   ]
  },
  {
   "cell_type": "code",
   "execution_count": 34,
   "id": "7e799859",
   "metadata": {
    "execution": {
     "iopub.execute_input": "2021-07-24T07:07:25.483707Z",
     "iopub.status.busy": "2021-07-24T07:07:25.483075Z",
     "iopub.status.idle": "2021-07-24T07:07:25.769575Z",
     "shell.execute_reply": "2021-07-24T07:07:25.768948Z",
     "shell.execute_reply.started": "2021-07-24T07:04:06.235388Z"
    },
    "papermill": {
     "duration": 0.337666,
     "end_time": "2021-07-24T07:07:25.769720",
     "exception": false,
     "start_time": "2021-07-24T07:07:25.432054",
     "status": "completed"
    },
    "tags": []
   },
   "outputs": [
    {
     "data": {
      "text/plain": [
       "LogisticRegression()"
      ]
     },
     "execution_count": 34,
     "metadata": {},
     "output_type": "execute_result"
    }
   ],
   "source": [
    "from sklearn.linear_model import LogisticRegression\n",
    "logreg = LogisticRegression()\n",
    "logreg.fit(train_dataX, train_dataY)"
   ]
  },
  {
   "cell_type": "code",
   "execution_count": 35,
   "id": "0d5f5c1b",
   "metadata": {
    "execution": {
     "iopub.execute_input": "2021-07-24T07:07:25.873111Z",
     "iopub.status.busy": "2021-07-24T07:07:25.872304Z",
     "iopub.status.idle": "2021-07-24T07:07:25.875528Z",
     "shell.execute_reply": "2021-07-24T07:07:25.876051Z",
     "shell.execute_reply.started": "2021-07-24T07:04:06.253928Z"
    },
    "papermill": {
     "duration": 0.058099,
     "end_time": "2021-07-24T07:07:25.876211",
     "exception": false,
     "start_time": "2021-07-24T07:07:25.818112",
     "status": "completed"
    },
    "tags": []
   },
   "outputs": [
    {
     "data": {
      "text/plain": [
       "(418,)"
      ]
     },
     "execution_count": 35,
     "metadata": {},
     "output_type": "execute_result"
    }
   ],
   "source": [
    "y_pred = logreg.predict(finalTest)\n",
    "y_pred.shape"
   ]
  },
  {
   "cell_type": "code",
   "execution_count": 36,
   "id": "7aba713b",
   "metadata": {
    "execution": {
     "iopub.execute_input": "2021-07-24T07:07:25.977193Z",
     "iopub.status.busy": "2021-07-24T07:07:25.976249Z",
     "iopub.status.idle": "2021-07-24T07:07:25.991188Z",
     "shell.execute_reply": "2021-07-24T07:07:25.991953Z",
     "shell.execute_reply.started": "2021-07-24T07:04:06.262349Z"
    },
    "papermill": {
     "duration": 0.067428,
     "end_time": "2021-07-24T07:07:25.992256",
     "exception": false,
     "start_time": "2021-07-24T07:07:25.924828",
     "status": "completed"
    },
    "tags": []
   },
   "outputs": [
    {
     "name": "stdout",
     "output_type": "stream",
     "text": [
      "<class 'pandas.core.frame.DataFrame'>\n",
      "RangeIndex: 418 entries, 0 to 417\n",
      "Data columns (total 11 columns):\n",
      " #   Column       Non-Null Count  Dtype  \n",
      "---  ------       --------------  -----  \n",
      " 0   PassengerId  418 non-null    int64  \n",
      " 1   Pclass       418 non-null    int64  \n",
      " 2   Name         418 non-null    object \n",
      " 3   Sex          418 non-null    object \n",
      " 4   Age          332 non-null    float64\n",
      " 5   SibSp        418 non-null    int64  \n",
      " 6   Parch        418 non-null    int64  \n",
      " 7   Ticket       418 non-null    object \n",
      " 8   Fare         417 non-null    float64\n",
      " 9   Cabin        91 non-null     object \n",
      " 10  Embarked     418 non-null    object \n",
      "dtypes: float64(2), int64(4), object(5)\n",
      "memory usage: 36.0+ KB\n"
     ]
    }
   ],
   "source": [
    "test_cpy.info()"
   ]
  },
  {
   "cell_type": "code",
   "execution_count": 37,
   "id": "80d1bf28",
   "metadata": {
    "execution": {
     "iopub.execute_input": "2021-07-24T07:07:26.093381Z",
     "iopub.status.busy": "2021-07-24T07:07:26.092725Z",
     "iopub.status.idle": "2021-07-24T07:07:26.103102Z",
     "shell.execute_reply": "2021-07-24T07:07:26.102578Z",
     "shell.execute_reply.started": "2021-07-24T07:06:18.339334Z"
    },
    "papermill": {
     "duration": 0.061368,
     "end_time": "2021-07-24T07:07:26.103244",
     "exception": false,
     "start_time": "2021-07-24T07:07:26.041876",
     "status": "completed"
    },
    "tags": []
   },
   "outputs": [],
   "source": [
    "\n",
    "test_cpy['Fare']=test_cpy['Fare'].fillna(test_cpy['Fare'].median())\n",
    "output = pd.DataFrame({'PassengerId': test_cpy.PassengerId, 'Survived':y_pred })\n",
    "output.to_csv('my_submissionLR.csv', index=False)"
   ]
  },
  {
   "cell_type": "code",
   "execution_count": null,
   "id": "fff26a2c",
   "metadata": {
    "papermill": {
     "duration": 0.048856,
     "end_time": "2021-07-24T07:07:26.202742",
     "exception": false,
     "start_time": "2021-07-24T07:07:26.153886",
     "status": "completed"
    },
    "tags": []
   },
   "outputs": [],
   "source": []
  }
 ],
 "metadata": {
  "kernelspec": {
   "display_name": "Python 3",
   "language": "python",
   "name": "python3"
  },
  "language_info": {
   "codemirror_mode": {
    "name": "ipython",
    "version": 3
   },
   "file_extension": ".py",
   "mimetype": "text/x-python",
   "name": "python",
   "nbconvert_exporter": "python",
   "pygments_lexer": "ipython3",
   "version": "3.7.10"
  },
  "papermill": {
   "default_parameters": {},
   "duration": 27.520177,
   "end_time": "2021-07-24T07:07:26.961489",
   "environment_variables": {},
   "exception": null,
   "input_path": "__notebook__.ipynb",
   "output_path": "__notebook__.ipynb",
   "parameters": {},
   "start_time": "2021-07-24T07:06:59.441312",
   "version": "2.3.3"
  }
 },
 "nbformat": 4,
 "nbformat_minor": 5
}
